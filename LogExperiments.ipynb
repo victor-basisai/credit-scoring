{
 "cells": [
  {
   "cell_type": "code",
   "execution_count": 2,
   "metadata": {},
   "outputs": [],
   "source": [
    "\"\"\"\n",
    "Python script for training a model version\n",
    "\"\"\"\n",
    "# Core\n",
    "import os\n",
    "import json\n",
    "import logging\n",
    "import pickle\n",
    "import sys\n",
    "\n",
    "# Third-party\n",
    "import pandas as pd\n",
    "import numpy as np\n",
    "import matplotlib.pyplot as plt\n",
    "from sklearn.preprocessing import StandardScaler\n",
    "from sklearn.linear_model import LogisticRegression\n",
    "from sklearn.pipeline import Pipeline\n",
    "from sklearn.model_selection import StratifiedKFold, cross_validate, cross_val_score\n",
    "from sklearn.calibration import calibration_curve\n",
    "from sklearn import metrics\n",
    "import utils.credit as utils\n",
    "\n",
    "# Bedrock\n",
    "import bdrk\n",
    "from bdrk.model_analyzer import ModelAnalyzer, ModelTypes\n",
    "from boxkite.monitoring.service import ModelMonitoringService"
   ]
  },
  {
   "cell_type": "code",
   "execution_count": 3,
   "metadata": {},
   "outputs": [],
   "source": [
    "# Environmental params for Bedrock\n",
    "# These are usually captured in the Bedrock HCL\n",
    "DATA_DIR_LOCAL = \"data/creditdata\"\n",
    "SEED = 3\n",
    "TH = 0.5\n",
    "LR_REGULARIZER = 1e-1\n",
    "RF_N_ESTIMATORS = 100\n",
    "CB_ITERATIONS = 100\n",
    "\n",
    "ENV_PARAMS = {\n",
    "    \"DATA_DIR_LOCAL\": DATA_DIR_LOCAL, \n",
    "    \"SEED\": SEED, \n",
    "    \"TH\": TH,\n",
    "    \"LR_REGULARIZER\": LR_REGULARIZER,\n",
    "    \"RF_N_ESTIMATORS\": RF_N_ESTIMATORS,\n",
    "    \"CB_ITERATIONS\": CB_ITERATIONS\n",
    "}\n",
    "\n",
    "OUTPUT_MODEL_PATH = \"/artefact/model.pkl\"\n",
    "FEATURE_COLS_PATH = \"/artefact/feature_cols.pkl\""
   ]
  },
  {
   "cell_type": "code",
   "execution_count": 4,
   "metadata": {},
   "outputs": [],
   "source": [
    "# Params for Bedrock Client\n",
    "# Not required if training pipeline is run via UI\n",
    "PROJECT_ID = \"victor-sandbox\"\n",
    "PIPELINE_ID = \"rest-credit-scoring\"\n",
    "ENVIRONMENT_ID = \"sandbox-aws-production\""
   ]
  },
  {
   "cell_type": "markdown",
   "metadata": {},
   "source": [
    "# Step 1: Train the model"
   ]
  },
  {
   "cell_type": "code",
   "execution_count": 5,
   "metadata": {},
   "outputs": [
    {
     "name": "stdout",
     "output_type": "stream",
     "text": [
      "upsampling...\n",
      "scaling...\n",
      "fitting...\n",
      "C: 0.1\n",
      "chaining pipeline...\n",
      "done.\n"
     ]
    }
   ],
   "source": [
    "# Extraneous columns (as might be determined through feature selection)\n",
    "drop_cols = ['ID']\n",
    "\n",
    "# --- Data ETL ---\n",
    "# Load into pandas dataframes\n",
    "# x_<name> : features\n",
    "# y_<name> : labels\n",
    "x_train, y_train = utils.load_dataset(os.path.join(DATA_DIR_LOCAL, 'creditdata_train_v2.csv'), drop_columns=drop_cols)\n",
    "x_test, y_test = utils.load_dataset(os.path.join(DATA_DIR_LOCAL, 'creditdata_test_v2.csv'), drop_columns=drop_cols)\n",
    "\n",
    "\n",
    "# --- Candidate Binary Classification Algos ---\n",
    "# MODEL 1: LOGISTIC REGRESSION\n",
    "# Use best parameters from a model selection and threshold tuning process\n",
    "model = utils.train_log_reg_model(x_train, y_train, seed=SEED, C=LR_REGULARIZER, upsample=True, verbose=True)\n",
    "model_name = \"logreg_model\"\n",
    "model_type = ModelTypes.LINEAR\n",
    "\n",
    "# MODEL 2: RANDOM FOREST\n",
    "# Uses default threshold of 0.5 and model parameters\n",
    "# model = utils.train_rf_model(x_train, y_train, seed=SEED, upsample=True, verbose=True)\n",
    "# model_name = \"randomforest_model\"\n",
    "# model_type = ModelTypes.TREE\n",
    "\n",
    "# MODEL 3: CATBOOST\n",
    "# Uses default threshold of 0.5 and model parameters\n",
    "# model = utils.train_catboost_model(x_train, y_train, seed=SEED, upsample=True, verbose=True, iterations=CB_ITERATIONS, eval_data=x_test, eval_labels=y_test)\n",
    "# model_name = \"catboost_model\"\n",
    "# model_type = ModelTypes.TREE"
   ]
  },
  {
   "cell_type": "markdown",
   "metadata": {},
   "source": [
    "# Step 2: Logging Metrics via Bedrock Client Library\n",
    "- This bypasses the need to write Bedrock HCL or run Git-linked training pipelines\n",
    "- Metrics will appear as a \"pipeline\" in the \"Training\" tab in the Bedrock workspace"
   ]
  },
  {
   "cell_type": "code",
   "execution_count": 7,
   "metadata": {},
   "outputs": [],
   "source": [
    "# You can customize the logging logic here\n",
    "_logger = logging.getLogger(bdrk.utils.vars.Constants.MAIN_LOG)\n",
    "_logger.setLevel(logging.INFO)\n",
    "if not _logger.handlers:\n",
    "    _logger.addHandler(logging.StreamHandler(stream=sys.stdout))\n",
    "\n",
    "# Visit https://bedrock.basis-ai.com/setting/token/ to get the personal access token.\n",
    "# os.environ[\"BEDROCK_API_TOKEN\"]"
   ]
  },
  {
   "cell_type": "code",
   "execution_count": 8,
   "metadata": {},
   "outputs": [],
   "source": [
    "def compute_log_notebook_metrics(model, x_train, \n",
    "                                x_test, y_test, \n",
    "                                best_th=0.5,\n",
    "                                model_name=\"tree_model\", \n",
    "                                model_type=ModelTypes.TREE,\n",
    "                                access_token=None,\n",
    "                                project_id=None,\n",
    "                                pipeline_id=None,\n",
    "                                environment_id=None,\n",
    "                                env_params=None):\n",
    "    \n",
    "    bdrk.init(access_token=access_token, project_id=project_id)\n",
    "    with bdrk.start_run(pipeline_id=pipeline_id, environment_id=environment_id):\n",
    "    \n",
    "        bdrk.log_params(env_params)\n",
    "        \n",
    "        # Compute and log test metrics\n",
    "        test_prob = model.predict_proba(x_test)[:, 1]\n",
    "        test_pred = np.where(test_prob > best_th, 1, 0)\n",
    "\n",
    "        acc = metrics.accuracy_score(y_test, test_pred)\n",
    "        precision = metrics.precision_score(y_test, test_pred)\n",
    "        recall = metrics.recall_score(y_test, test_pred)\n",
    "        f1_score = metrics.f1_score(y_test, test_pred)\n",
    "        roc_auc = metrics.roc_auc_score(y_test, test_prob)\n",
    "        avg_prc = metrics.average_precision_score(y_test, test_prob)\n",
    "        print(\"Evaluation\\n\"\n",
    "              f\"  Accuracy          = {acc:.4f}\\n\"\n",
    "              f\"  Precision         = {precision:.4f}\\n\"\n",
    "              f\"  Recall            = {recall:.4f}\\n\"\n",
    "              f\"  F1 score          = {f1_score:.4f}\\n\"\n",
    "              f\"  ROC AUC           = {roc_auc:.4f}\\n\"\n",
    "              f\"  Average precision = {avg_prc:.4f}\")\n",
    "\n",
    "        # --- Bedrock-native Integrations ---\n",
    "        # Bedrock Logger: captures model metrics\n",
    "\n",
    "        # Optional: Log metrics for each training step\n",
    "        evals = model[1].evals_result_[\"validation\"]\n",
    "        for iteration in range(len(evals[\"Logloss\"])):\n",
    "            bdrk.log_metrics(metrics={\n",
    "                \"Training Logloss\": evals[\"Logloss\"][iteration],\n",
    "                \"Training AUC\": evals[\"AUC\"][iteration]\n",
    "            }, x=iteration)\n",
    "        \n",
    "        # Log into charts, the binary classifier from the predicted data\n",
    "        bdrk.log_binary_classifier_metrics(actual=y_test.astype(int).tolist(),\n",
    "                                           probability=test_prob.flatten().tolist())\n",
    "\n",
    "        # Log final key-value pairs\n",
    "        bdrk.log_metric(\"Accuracy\", acc)\n",
    "        bdrk.log_metric(\"Precision\", precision)\n",
    "        bdrk.log_metric(\"Recall\", recall)\n",
    "        bdrk.log_metric(\"F1 score\", f1_score)\n",
    "        bdrk.log_metric(\"ROC AUC\", roc_auc)\n",
    "        bdrk.log_metric(\"Avg precision\", avg_prc)\n",
    "\n",
    "        # Alternative: Log dict of key-value pairs\n",
    "        # e.g. bdrk.log_metrics(metrics={\"Accuracy\": acc})\n",
    "        \n",
    "        # Saving and log the model\n",
    "        with open(OUTPUT_MODEL_PATH, \"wb\") as model_file:\n",
    "            pickle.dump(model, model_file)\n",
    "        bdrk.log_model(OUTPUT_MODEL_PATH)\n"
   ]
  },
  {
   "cell_type": "code",
   "execution_count": 9,
   "metadata": {},
   "outputs": [
    {
     "name": "stdout",
     "output_type": "stream",
     "text": [
      "BedrockClient initialized on project=victor-sandbox\n"
     ]
    },
    {
     "name": "stderr",
     "output_type": "stream",
     "text": [
      "INFO:bdrk:BedrockClient initialized on project=victor-sandbox\n"
     ]
    },
    {
     "name": "stdout",
     "output_type": "stream",
     "text": [
      "Run started: rest-credit-scoring-run20\n"
     ]
    },
    {
     "name": "stderr",
     "output_type": "stream",
     "text": [
      "INFO:bdrk:Run started: rest-credit-scoring-run20\n"
     ]
    },
    {
     "name": "stdout",
     "output_type": "stream",
     "text": [
      "Params updated: {'DATA_DIR_LOCAL': 'data/creditdata', 'SEED': '3', 'TH': '0.5', 'LR_REGULARIZER': '0.1', 'RF_N_ESTIMATORS': '100', 'CB_ITERATIONS': '100'}\n"
     ]
    },
    {
     "name": "stderr",
     "output_type": "stream",
     "text": [
      "INFO:bdrk:Params updated: {'DATA_DIR_LOCAL': 'data/creditdata', 'SEED': '3', 'TH': '0.5', 'LR_REGULARIZER': '0.1', 'RF_N_ESTIMATORS': '100', 'CB_ITERATIONS': '100'}\n"
     ]
    },
    {
     "name": "stdout",
     "output_type": "stream",
     "text": [
      "Evaluation\n",
      "  Accuracy          = 0.7641\n",
      "  Precision         = 0.8756\n",
      "  Recall            = 0.8125\n",
      "  F1 score          = 0.8429\n",
      "  ROC AUC           = 0.7654\n",
      "  Average precision = 0.9024\n",
      "New metrics logged: with x=0, metrics={'Training Logloss': 0.6328665080665294, 'Training AUC': 0.7177122622306059}\n"
     ]
    },
    {
     "name": "stderr",
     "output_type": "stream",
     "text": [
      "INFO:bdrk:New metrics logged: with x=0, metrics={'Training Logloss': 0.6328665080665294, 'Training AUC': 0.7177122622306059}\n"
     ]
    },
    {
     "name": "stdout",
     "output_type": "stream",
     "text": [
      "New metrics logged: with x=1, metrics={'Training Logloss': 0.5886178791888027, 'Training AUC': 0.7318601364943351}\n"
     ]
    },
    {
     "name": "stderr",
     "output_type": "stream",
     "text": [
      "INFO:bdrk:New metrics logged: with x=1, metrics={'Training Logloss': 0.5886178791888027, 'Training AUC': 0.7318601364943351}\n"
     ]
    },
    {
     "name": "stdout",
     "output_type": "stream",
     "text": [
      "New metrics logged: with x=2, metrics={'Training Logloss': 0.5651675524747942, 'Training AUC': 0.7276685903590001}\n"
     ]
    },
    {
     "name": "stderr",
     "output_type": "stream",
     "text": [
      "INFO:bdrk:New metrics logged: with x=2, metrics={'Training Logloss': 0.5651675524747942, 'Training AUC': 0.7276685903590001}\n"
     ]
    },
    {
     "name": "stdout",
     "output_type": "stream",
     "text": [
      "New metrics logged: with x=3, metrics={'Training Logloss': 0.5480202847789226, 'Training AUC': 0.733918965092533}\n"
     ]
    },
    {
     "name": "stderr",
     "output_type": "stream",
     "text": [
      "INFO:bdrk:New metrics logged: with x=3, metrics={'Training Logloss': 0.5480202847789226, 'Training AUC': 0.733918965092533}\n"
     ]
    },
    {
     "name": "stdout",
     "output_type": "stream",
     "text": [
      "New metrics logged: with x=4, metrics={'Training Logloss': 0.5392666616194849, 'Training AUC': 0.7279399464552865}\n"
     ]
    },
    {
     "name": "stderr",
     "output_type": "stream",
     "text": [
      "INFO:bdrk:New metrics logged: with x=4, metrics={'Training Logloss': 0.5392666616194849, 'Training AUC': 0.7279399464552865}\n"
     ]
    },
    {
     "name": "stdout",
     "output_type": "stream",
     "text": [
      "New metrics logged: with x=5, metrics={'Training Logloss': 0.5241028502702295, 'Training AUC': 0.7170831226827794}\n"
     ]
    },
    {
     "name": "stderr",
     "output_type": "stream",
     "text": [
      "INFO:bdrk:New metrics logged: with x=5, metrics={'Training Logloss': 0.5241028502702295, 'Training AUC': 0.7170831226827794}\n"
     ]
    },
    {
     "name": "stdout",
     "output_type": "stream",
     "text": [
      "New metrics logged: with x=6, metrics={'Training Logloss': 0.5170072102061595, 'Training AUC': 0.7117529541901995}\n"
     ]
    },
    {
     "name": "stderr",
     "output_type": "stream",
     "text": [
      "INFO:bdrk:New metrics logged: with x=6, metrics={'Training Logloss': 0.5170072102061595, 'Training AUC': 0.7117529541901995}\n"
     ]
    },
    {
     "name": "stdout",
     "output_type": "stream",
     "text": [
      "New metrics logged: with x=7, metrics={'Training Logloss': 0.5124886504883984, 'Training AUC': 0.7168283812780701}\n"
     ]
    },
    {
     "name": "stderr",
     "output_type": "stream",
     "text": [
      "INFO:bdrk:New metrics logged: with x=7, metrics={'Training Logloss': 0.5124886504883984, 'Training AUC': 0.7168283812780701}\n"
     ]
    },
    {
     "name": "stdout",
     "output_type": "stream",
     "text": [
      "New metrics logged: with x=8, metrics={'Training Logloss': 0.4944809083359679, 'Training AUC': 0.7209873172113035}\n"
     ]
    },
    {
     "name": "stderr",
     "output_type": "stream",
     "text": [
      "INFO:bdrk:New metrics logged: with x=8, metrics={'Training Logloss': 0.4944809083359679, 'Training AUC': 0.7209873172113035}\n"
     ]
    },
    {
     "name": "stdout",
     "output_type": "stream",
     "text": [
      "New metrics logged: with x=9, metrics={'Training Logloss': 0.4863527080820282, 'Training AUC': 0.7202327419019116}\n"
     ]
    },
    {
     "name": "stderr",
     "output_type": "stream",
     "text": [
      "INFO:bdrk:New metrics logged: with x=9, metrics={'Training Logloss': 0.4863527080820282, 'Training AUC': 0.7202327419019116}\n"
     ]
    },
    {
     "name": "stdout",
     "output_type": "stream",
     "text": [
      "New metrics logged: with x=10, metrics={'Training Logloss': 0.4852289536074355, 'Training AUC': 0.7203058052661142}\n"
     ]
    },
    {
     "name": "stderr",
     "output_type": "stream",
     "text": [
      "INFO:bdrk:New metrics logged: with x=10, metrics={'Training Logloss': 0.4852289536074355, 'Training AUC': 0.7203058052661142}\n"
     ]
    },
    {
     "name": "stdout",
     "output_type": "stream",
     "text": [
      "New metrics logged: with x=11, metrics={'Training Logloss': 0.47503420291304305, 'Training AUC': 0.72182491438016}\n"
     ]
    },
    {
     "name": "stderr",
     "output_type": "stream",
     "text": [
      "INFO:bdrk:New metrics logged: with x=11, metrics={'Training Logloss': 0.47503420291304305, 'Training AUC': 0.72182491438016}\n"
     ]
    },
    {
     "name": "stdout",
     "output_type": "stream",
     "text": [
      "New metrics logged: with x=12, metrics={'Training Logloss': 0.471837736453061, 'Training AUC': 0.7198544738772158}\n"
     ]
    },
    {
     "name": "stderr",
     "output_type": "stream",
     "text": [
      "INFO:bdrk:New metrics logged: with x=12, metrics={'Training Logloss': 0.471837736453061, 'Training AUC': 0.7198544738772158}\n"
     ]
    },
    {
     "name": "stdout",
     "output_type": "stream",
     "text": [
      "New metrics logged: with x=13, metrics={'Training Logloss': 0.46614824970151136, 'Training AUC': 0.7216050019096576}\n"
     ]
    },
    {
     "name": "stderr",
     "output_type": "stream",
     "text": [
      "INFO:bdrk:New metrics logged: with x=13, metrics={'Training Logloss': 0.46614824970151136, 'Training AUC': 0.7216050019096576}\n"
     ]
    },
    {
     "name": "stdout",
     "output_type": "stream",
     "text": [
      "New metrics logged: with x=14, metrics={'Training Logloss': 0.47155607254190735, 'Training AUC': 0.7127506096611439}\n"
     ]
    },
    {
     "name": "stderr",
     "output_type": "stream",
     "text": [
      "INFO:bdrk:New metrics logged: with x=14, metrics={'Training Logloss': 0.47155607254190735, 'Training AUC': 0.7127506096611439}\n"
     ]
    },
    {
     "name": "stdout",
     "output_type": "stream",
     "text": [
      "New metrics logged: with x=15, metrics={'Training Logloss': 0.47148293842367706, 'Training AUC': 0.7127100533022009}\n"
     ]
    },
    {
     "name": "stderr",
     "output_type": "stream",
     "text": [
      "INFO:bdrk:New metrics logged: with x=15, metrics={'Training Logloss': 0.47148293842367706, 'Training AUC': 0.7127100533022009}\n"
     ]
    },
    {
     "name": "stdout",
     "output_type": "stream",
     "text": [
      "New metrics logged: with x=16, metrics={'Training Logloss': 0.4718811168476328, 'Training AUC': 0.7152675806398183}\n"
     ]
    },
    {
     "name": "stderr",
     "output_type": "stream",
     "text": [
      "INFO:bdrk:New metrics logged: with x=16, metrics={'Training Logloss': 0.4718811168476328, 'Training AUC': 0.7152675806398183}\n"
     ]
    },
    {
     "name": "stdout",
     "output_type": "stream",
     "text": [
      "New metrics logged: with x=17, metrics={'Training Logloss': 0.47309347236601856, 'Training AUC': 0.7165314839633655}\n"
     ]
    },
    {
     "name": "stderr",
     "output_type": "stream",
     "text": [
      "INFO:bdrk:New metrics logged: with x=17, metrics={'Training Logloss': 0.47309347236601856, 'Training AUC': 0.7165314839633655}\n"
     ]
    },
    {
     "name": "stdout",
     "output_type": "stream",
     "text": [
      "New metrics logged: with x=18, metrics={'Training Logloss': 0.46338408259429453, 'Training AUC': 0.7210902560612923}\n"
     ]
    },
    {
     "name": "stderr",
     "output_type": "stream",
     "text": [
      "INFO:bdrk:New metrics logged: with x=18, metrics={'Training Logloss': 0.46338408259429453, 'Training AUC': 0.7210902560612923}\n"
     ]
    },
    {
     "name": "stdout",
     "output_type": "stream",
     "text": [
      "New metrics logged: with x=19, metrics={'Training Logloss': 0.4673171534256742, 'Training AUC': 0.7187788015936482}\n"
     ]
    },
    {
     "name": "stderr",
     "output_type": "stream",
     "text": [
      "INFO:bdrk:New metrics logged: with x=19, metrics={'Training Logloss': 0.4673171534256742, 'Training AUC': 0.7187788015936482}\n"
     ]
    },
    {
     "name": "stdout",
     "output_type": "stream",
     "text": [
      "New metrics logged: with x=20, metrics={'Training Logloss': 0.4703019849598734, 'Training AUC': 0.7196880689693391}\n"
     ]
    },
    {
     "name": "stderr",
     "output_type": "stream",
     "text": [
      "INFO:bdrk:New metrics logged: with x=20, metrics={'Training Logloss': 0.4703019849598734, 'Training AUC': 0.7196880689693391}\n"
     ]
    },
    {
     "name": "stdout",
     "output_type": "stream",
     "text": [
      "New metrics logged: with x=21, metrics={'Training Logloss': 0.4714844597587456, 'Training AUC': 0.7187793175778586}\n"
     ]
    },
    {
     "name": "stderr",
     "output_type": "stream",
     "text": [
      "INFO:bdrk:New metrics logged: with x=21, metrics={'Training Logloss': 0.4714844597587456, 'Training AUC': 0.7187793175778586}\n"
     ]
    },
    {
     "name": "stdout",
     "output_type": "stream",
     "text": [
      "New metrics logged: with x=22, metrics={'Training Logloss': 0.4760835217136693, 'Training AUC': 0.718628237401033}\n"
     ]
    },
    {
     "name": "stderr",
     "output_type": "stream",
     "text": [
      "INFO:bdrk:New metrics logged: with x=22, metrics={'Training Logloss': 0.4760835217136693, 'Training AUC': 0.718628237401033}\n"
     ]
    },
    {
     "name": "stdout",
     "output_type": "stream",
     "text": [
      "New metrics logged: with x=23, metrics={'Training Logloss': 0.475417935844703, 'Training AUC': 0.7193876113635822}\n"
     ]
    },
    {
     "name": "stderr",
     "output_type": "stream",
     "text": [
      "INFO:bdrk:New metrics logged: with x=23, metrics={'Training Logloss': 0.475417935844703, 'Training AUC': 0.7193876113635822}\n"
     ]
    },
    {
     "name": "stdout",
     "output_type": "stream",
     "text": [
      "New metrics logged: with x=24, metrics={'Training Logloss': 0.47264823462365246, 'Training AUC': 0.7172163498059229}\n"
     ]
    },
    {
     "name": "stderr",
     "output_type": "stream",
     "text": [
      "INFO:bdrk:New metrics logged: with x=24, metrics={'Training Logloss': 0.47264823462365246, 'Training AUC': 0.7172163498059229}\n"
     ]
    },
    {
     "name": "stdout",
     "output_type": "stream",
     "text": [
      "New metrics logged: with x=25, metrics={'Training Logloss': 0.46737662314955775, 'Training AUC': 0.7169934446269997}\n"
     ]
    },
    {
     "name": "stderr",
     "output_type": "stream",
     "text": [
      "INFO:bdrk:New metrics logged: with x=25, metrics={'Training Logloss': 0.46737662314955775, 'Training AUC': 0.7169934446269997}\n"
     ]
    },
    {
     "name": "stdout",
     "output_type": "stream",
     "text": [
      "New metrics logged: with x=26, metrics={'Training Logloss': 0.4650031745766321, 'Training AUC': 0.7158914571486981}\n"
     ]
    },
    {
     "name": "stderr",
     "output_type": "stream",
     "text": [
      "INFO:bdrk:New metrics logged: with x=26, metrics={'Training Logloss': 0.4650031745766321, 'Training AUC': 0.7158914571486981}\n"
     ]
    },
    {
     "name": "stdout",
     "output_type": "stream",
     "text": [
      "New metrics logged: with x=27, metrics={'Training Logloss': 0.4664284162977506, 'Training AUC': 0.712823157041136}\n"
     ]
    },
    {
     "name": "stderr",
     "output_type": "stream",
     "text": [
      "INFO:bdrk:New metrics logged: with x=27, metrics={'Training Logloss': 0.4664284162977506, 'Training AUC': 0.712823157041136}\n"
     ]
    },
    {
     "name": "stdout",
     "output_type": "stream",
     "text": [
      "New metrics logged: with x=28, metrics={'Training Logloss': 0.46718033068895937, 'Training AUC': 0.7118362856401904}\n"
     ]
    },
    {
     "name": "stderr",
     "output_type": "stream",
     "text": [
      "INFO:bdrk:New metrics logged: with x=28, metrics={'Training Logloss': 0.46718033068895937, 'Training AUC': 0.7118362856401904}\n"
     ]
    },
    {
     "name": "stdout",
     "output_type": "stream",
     "text": [
      "New metrics logged: with x=29, metrics={'Training Logloss': 0.46696988148800467, 'Training AUC': 0.7121770416127851}\n"
     ]
    },
    {
     "name": "stderr",
     "output_type": "stream",
     "text": [
      "INFO:bdrk:New metrics logged: with x=29, metrics={'Training Logloss': 0.46696988148800467, 'Training AUC': 0.7121770416127851}\n"
     ]
    },
    {
     "name": "stdout",
     "output_type": "stream",
     "text": [
      "New metrics logged: with x=30, metrics={'Training Logloss': 0.4688683217125581, 'Training AUC': 0.710386782796137}\n"
     ]
    },
    {
     "name": "stderr",
     "output_type": "stream",
     "text": [
      "INFO:bdrk:New metrics logged: with x=30, metrics={'Training Logloss': 0.4688683217125581, 'Training AUC': 0.710386782796137}\n"
     ]
    },
    {
     "name": "stdout",
     "output_type": "stream",
     "text": [
      "New metrics logged: with x=31, metrics={'Training Logloss': 0.4648186695414863, 'Training AUC': 0.7162757621886564}\n"
     ]
    },
    {
     "name": "stderr",
     "output_type": "stream",
     "text": [
      "INFO:bdrk:New metrics logged: with x=31, metrics={'Training Logloss': 0.4648186695414863, 'Training AUC': 0.7162757621886564}\n"
     ]
    },
    {
     "name": "stdout",
     "output_type": "stream",
     "text": [
      "New metrics logged: with x=32, metrics={'Training Logloss': 0.4657822573480314, 'Training AUC': 0.7129968889248014}\n"
     ]
    },
    {
     "name": "stderr",
     "output_type": "stream",
     "text": [
      "INFO:bdrk:New metrics logged: with x=32, metrics={'Training Logloss': 0.4657822573480314, 'Training AUC': 0.7129968889248014}\n"
     ]
    },
    {
     "name": "stdout",
     "output_type": "stream",
     "text": [
      "New metrics logged: with x=33, metrics={'Training Logloss': 0.46668281492711905, 'Training AUC': 0.7136325814721008}\n"
     ]
    },
    {
     "name": "stderr",
     "output_type": "stream",
     "text": [
      "INFO:bdrk:New metrics logged: with x=33, metrics={'Training Logloss': 0.46668281492711905, 'Training AUC': 0.7136325814721008}\n"
     ]
    },
    {
     "name": "stdout",
     "output_type": "stream",
     "text": [
      "New metrics logged: with x=34, metrics={'Training Logloss': 0.46722896654723417, 'Training AUC': 0.7135052365689568}\n"
     ]
    },
    {
     "name": "stderr",
     "output_type": "stream",
     "text": [
      "INFO:bdrk:New metrics logged: with x=34, metrics={'Training Logloss': 0.46722896654723417, 'Training AUC': 0.7135052365689568}\n"
     ]
    },
    {
     "name": "stdout",
     "output_type": "stream",
     "text": [
      "New metrics logged: with x=35, metrics={'Training Logloss': 0.4671360845119125, 'Training AUC': 0.71428550789203}\n"
     ]
    },
    {
     "name": "stderr",
     "output_type": "stream",
     "text": [
      "INFO:bdrk:New metrics logged: with x=35, metrics={'Training Logloss': 0.4671360845119125, 'Training AUC': 0.71428550789203}\n"
     ]
    },
    {
     "name": "stdout",
     "output_type": "stream",
     "text": [
      "New metrics logged: with x=36, metrics={'Training Logloss': 0.4670540687223736, 'Training AUC': 0.7144121304172796}\n"
     ]
    },
    {
     "name": "stderr",
     "output_type": "stream",
     "text": [
      "INFO:bdrk:New metrics logged: with x=36, metrics={'Training Logloss': 0.4670540687223736, 'Training AUC': 0.7144121304172796}\n"
     ]
    },
    {
     "name": "stdout",
     "output_type": "stream",
     "text": [
      "New metrics logged: with x=37, metrics={'Training Logloss': 0.4668928913636553, 'Training AUC': 0.7150163479277404}\n"
     ]
    },
    {
     "name": "stderr",
     "output_type": "stream",
     "text": [
      "INFO:bdrk:New metrics logged: with x=37, metrics={'Training Logloss': 0.4668928913636553, 'Training AUC': 0.7150163479277404}\n"
     ]
    },
    {
     "name": "stdout",
     "output_type": "stream",
     "text": [
      "New metrics logged: with x=38, metrics={'Training Logloss': 0.4678745449299488, 'Training AUC': 0.7155220124540013}\n"
     ]
    },
    {
     "name": "stderr",
     "output_type": "stream",
     "text": [
      "INFO:bdrk:New metrics logged: with x=38, metrics={'Training Logloss': 0.4678745449299488, 'Training AUC': 0.7155220124540013}\n"
     ]
    },
    {
     "name": "stdout",
     "output_type": "stream",
     "text": [
      "New metrics logged: with x=39, metrics={'Training Logloss': 0.4679214719959393, 'Training AUC': 0.7150810007493122}\n"
     ]
    },
    {
     "name": "stderr",
     "output_type": "stream",
     "text": [
      "INFO:bdrk:New metrics logged: with x=39, metrics={'Training Logloss': 0.4679214719959393, 'Training AUC': 0.7150810007493122}\n"
     ]
    },
    {
     "name": "stdout",
     "output_type": "stream",
     "text": [
      "New metrics logged: with x=40, metrics={'Training Logloss': 0.4696341868399349, 'Training AUC': 0.7131402809368911}\n"
     ]
    },
    {
     "name": "stderr",
     "output_type": "stream",
     "text": [
      "INFO:bdrk:New metrics logged: with x=40, metrics={'Training Logloss': 0.4696341868399349, 'Training AUC': 0.7131402809368911}\n"
     ]
    },
    {
     "name": "stdout",
     "output_type": "stream",
     "text": [
      "New metrics logged: with x=41, metrics={'Training Logloss': 0.47142578729444845, 'Training AUC': 0.7136796908305169}\n"
     ]
    },
    {
     "name": "stderr",
     "output_type": "stream",
     "text": [
      "INFO:bdrk:New metrics logged: with x=41, metrics={'Training Logloss': 0.47142578729444845, 'Training AUC': 0.7136796908305169}\n"
     ]
    },
    {
     "name": "stdout",
     "output_type": "stream",
     "text": [
      "New metrics logged: with x=42, metrics={'Training Logloss': 0.47105510853963534, 'Training AUC': 0.7136397536526264}\n"
     ]
    },
    {
     "name": "stderr",
     "output_type": "stream",
     "text": [
      "INFO:bdrk:New metrics logged: with x=42, metrics={'Training Logloss': 0.47105510853963534, 'Training AUC': 0.7136397536526264}\n"
     ]
    },
    {
     "name": "stdout",
     "output_type": "stream",
     "text": [
      "New metrics logged: with x=43, metrics={'Training Logloss': 0.47250941567766325, 'Training AUC': 0.7081437994332223}\n"
     ]
    },
    {
     "name": "stderr",
     "output_type": "stream",
     "text": [
      "INFO:bdrk:New metrics logged: with x=43, metrics={'Training Logloss': 0.47250941567766325, 'Training AUC': 0.7081437994332223}\n"
     ]
    },
    {
     "name": "stdout",
     "output_type": "stream",
     "text": [
      "New metrics logged: with x=44, metrics={'Training Logloss': 0.47305961220373643, 'Training AUC': 0.7073023323827872}\n"
     ]
    },
    {
     "name": "stderr",
     "output_type": "stream",
     "text": [
      "INFO:bdrk:New metrics logged: with x=44, metrics={'Training Logloss': 0.47305961220373643, 'Training AUC': 0.7073023323827872}\n"
     ]
    },
    {
     "name": "stdout",
     "output_type": "stream",
     "text": [
      "New metrics logged: with x=45, metrics={'Training Logloss': 0.47284216749750396, 'Training AUC': 0.7081628908490097}\n"
     ]
    },
    {
     "name": "stderr",
     "output_type": "stream",
     "text": [
      "INFO:bdrk:New metrics logged: with x=45, metrics={'Training Logloss': 0.47284216749750396, 'Training AUC': 0.7081628908490097}\n"
     ]
    },
    {
     "name": "stdout",
     "output_type": "stream",
     "text": [
      "New metrics logged: with x=46, metrics={'Training Logloss': 0.47160663815297854, 'Training AUC': 0.7116468162381057}\n"
     ]
    },
    {
     "name": "stderr",
     "output_type": "stream",
     "text": [
      "INFO:bdrk:New metrics logged: with x=46, metrics={'Training Logloss': 0.47160663815297854, 'Training AUC': 0.7116468162381057}\n"
     ]
    },
    {
     "name": "stdout",
     "output_type": "stream",
     "text": [
      "New metrics logged: with x=47, metrics={'Training Logloss': 0.47172088643295496, 'Training AUC': 0.7117361847033591}\n"
     ]
    },
    {
     "name": "stderr",
     "output_type": "stream",
     "text": [
      "INFO:bdrk:New metrics logged: with x=47, metrics={'Training Logloss': 0.47172088643295496, 'Training AUC': 0.7117361847033591}\n"
     ]
    },
    {
     "name": "stdout",
     "output_type": "stream",
     "text": [
      "New metrics logged: with x=48, metrics={'Training Logloss': 0.4714848513004301, 'Training AUC': 0.7124464369690716}\n"
     ]
    },
    {
     "name": "stderr",
     "output_type": "stream",
     "text": [
      "INFO:bdrk:New metrics logged: with x=48, metrics={'Training Logloss': 0.4714848513004301, 'Training AUC': 0.7124464369690716}\n"
     ]
    },
    {
     "name": "stdout",
     "output_type": "stream",
     "text": [
      "New metrics logged: with x=49, metrics={'Training Logloss': 0.47158720354131717, 'Training AUC': 0.7124464369690716}\n"
     ]
    },
    {
     "name": "stderr",
     "output_type": "stream",
     "text": [
      "INFO:bdrk:New metrics logged: with x=49, metrics={'Training Logloss': 0.47158720354131717, 'Training AUC': 0.7124464369690716}\n"
     ]
    },
    {
     "name": "stdout",
     "output_type": "stream",
     "text": [
      "New metrics logged: with x=50, metrics={'Training Logloss': 0.4712920292157029, 'Training AUC': 0.7125901901701086}\n"
     ]
    },
    {
     "name": "stderr",
     "output_type": "stream",
     "text": [
      "INFO:bdrk:New metrics logged: with x=50, metrics={'Training Logloss': 0.4712920292157029, 'Training AUC': 0.7125901901701086}\n"
     ]
    },
    {
     "name": "stdout",
     "output_type": "stream",
     "text": [
      "New metrics logged: with x=51, metrics={'Training Logloss': 0.4716035582484801, 'Training AUC': 0.7102597990819403}\n"
     ]
    },
    {
     "name": "stderr",
     "output_type": "stream",
     "text": [
      "INFO:bdrk:New metrics logged: with x=51, metrics={'Training Logloss': 0.4716035582484801, 'Training AUC': 0.7102597990819403}\n"
     ]
    },
    {
     "name": "stdout",
     "output_type": "stream",
     "text": [
      "New metrics logged: with x=52, metrics={'Training Logloss': 0.47213705134744094, 'Training AUC': 0.7132162854110934}\n"
     ]
    },
    {
     "name": "stderr",
     "output_type": "stream",
     "text": [
      "INFO:bdrk:New metrics logged: with x=52, metrics={'Training Logloss': 0.47213705134744094, 'Training AUC': 0.7132162854110934}\n"
     ]
    },
    {
     "name": "stdout",
     "output_type": "stream",
     "text": [
      "New metrics logged: with x=53, metrics={'Training Logloss': 0.4720519065183805, 'Training AUC': 0.7132613824310885}\n"
     ]
    },
    {
     "name": "stderr",
     "output_type": "stream",
     "text": [
      "INFO:bdrk:New metrics logged: with x=53, metrics={'Training Logloss': 0.4720519065183805, 'Training AUC': 0.7132613824310885}\n"
     ]
    },
    {
     "name": "stdout",
     "output_type": "stream",
     "text": [
      "New metrics logged: with x=54, metrics={'Training Logloss': 0.4720210378245237, 'Training AUC': 0.7132241283710925}\n"
     ]
    },
    {
     "name": "stderr",
     "output_type": "stream",
     "text": [
      "INFO:bdrk:New metrics logged: with x=54, metrics={'Training Logloss': 0.4720210378245237, 'Training AUC': 0.7132241283710925}\n"
     ]
    },
    {
     "name": "stdout",
     "output_type": "stream",
     "text": [
      "New metrics logged: with x=55, metrics={'Training Logloss': 0.4720878755572799, 'Training AUC': 0.7144357624941191}\n"
     ]
    },
    {
     "name": "stderr",
     "output_type": "stream",
     "text": [
      "INFO:bdrk:New metrics logged: with x=55, metrics={'Training Logloss': 0.4720878755572799, 'Training AUC': 0.7144357624941191}\n"
     ]
    },
    {
     "name": "stdout",
     "output_type": "stream",
     "text": [
      "New metrics logged: with x=56, metrics={'Training Logloss': 0.4721142771592975, 'Training AUC': 0.7145788965141036}\n"
     ]
    },
    {
     "name": "stderr",
     "output_type": "stream",
     "text": [
      "INFO:bdrk:New metrics logged: with x=56, metrics={'Training Logloss': 0.4721142771592975, 'Training AUC': 0.7145788965141036}\n"
     ]
    },
    {
     "name": "stdout",
     "output_type": "stream",
     "text": [
      "New metrics logged: with x=57, metrics={'Training Logloss': 0.47216129716861355, 'Training AUC': 0.7146571197204109}\n"
     ]
    },
    {
     "name": "stderr",
     "output_type": "stream",
     "text": [
      "INFO:bdrk:New metrics logged: with x=57, metrics={'Training Logloss': 0.47216129716861355, 'Training AUC': 0.7146571197204109}\n"
     ]
    },
    {
     "name": "stdout",
     "output_type": "stream",
     "text": [
      "New metrics logged: with x=58, metrics={'Training Logloss': 0.4746627798186385, 'Training AUC': 0.7136273184331541}\n"
     ]
    },
    {
     "name": "stderr",
     "output_type": "stream",
     "text": [
      "INFO:bdrk:New metrics logged: with x=58, metrics={'Training Logloss': 0.4746627798186385, 'Training AUC': 0.7136273184331541}\n"
     ]
    },
    {
     "name": "stdout",
     "output_type": "stream",
     "text": [
      "New metrics logged: with x=59, metrics={'Training Logloss': 0.4747061719790151, 'Training AUC': 0.7136273184331541}\n"
     ]
    },
    {
     "name": "stderr",
     "output_type": "stream",
     "text": [
      "INFO:bdrk:New metrics logged: with x=59, metrics={'Training Logloss': 0.4747061719790151, 'Training AUC': 0.7136273184331541}\n"
     ]
    },
    {
     "name": "stdout",
     "output_type": "stream",
     "text": [
      "New metrics logged: with x=60, metrics={'Training Logloss': 0.4746913902545532, 'Training AUC': 0.7137340239678793}\n"
     ]
    },
    {
     "name": "stderr",
     "output_type": "stream",
     "text": [
      "INFO:bdrk:New metrics logged: with x=60, metrics={'Training Logloss': 0.4746913902545532, 'Training AUC': 0.7137340239678793}\n"
     ]
    },
    {
     "name": "stdout",
     "output_type": "stream",
     "text": [
      "New metrics logged: with x=61, metrics={'Training Logloss': 0.4748505986778359, 'Training AUC': 0.7137432084868257}\n"
     ]
    },
    {
     "name": "stderr",
     "output_type": "stream",
     "text": [
      "INFO:bdrk:New metrics logged: with x=61, metrics={'Training Logloss': 0.4748505986778359, 'Training AUC': 0.7137432084868257}\n"
     ]
    },
    {
     "name": "stdout",
     "output_type": "stream",
     "text": [
      "New metrics logged: with x=62, metrics={'Training Logloss': 0.4742104231419979, 'Training AUC': 0.7118856653291324}\n"
     ]
    },
    {
     "name": "stderr",
     "output_type": "stream",
     "text": [
      "INFO:bdrk:New metrics logged: with x=62, metrics={'Training Logloss': 0.4742104231419979, 'Training AUC': 0.7118856653291324}\n"
     ]
    },
    {
     "name": "stdout",
     "output_type": "stream",
     "text": [
      "New metrics logged: with x=63, metrics={'Training Logloss': 0.47419357217944375, 'Training AUC': 0.7118856653291324}\n"
     ]
    },
    {
     "name": "stderr",
     "output_type": "stream",
     "text": [
      "INFO:bdrk:New metrics logged: with x=63, metrics={'Training Logloss': 0.47419357217944375, 'Training AUC': 0.7118856653291324}\n"
     ]
    },
    {
     "name": "stdout",
     "output_type": "stream",
     "text": [
      "New metrics logged: with x=64, metrics={'Training Logloss': 0.474214732161845, 'Training AUC': 0.711889690005974}\n"
     ]
    },
    {
     "name": "stderr",
     "output_type": "stream",
     "text": [
      "INFO:bdrk:New metrics logged: with x=64, metrics={'Training Logloss': 0.474214732161845, 'Training AUC': 0.711889690005974}\n"
     ]
    },
    {
     "name": "stdout",
     "output_type": "stream",
     "text": [
      "New metrics logged: with x=65, metrics={'Training Logloss': 0.4740842410667597, 'Training AUC': 0.7120774050617432}\n"
     ]
    },
    {
     "name": "stderr",
     "output_type": "stream",
     "text": [
      "INFO:bdrk:New metrics logged: with x=65, metrics={'Training Logloss': 0.4740842410667597, 'Training AUC': 0.7120774050617432}\n"
     ]
    },
    {
     "name": "stdout",
     "output_type": "stream",
     "text": [
      "New metrics logged: with x=66, metrics={'Training Logloss': 0.47472524651018505, 'Training AUC': 0.7134533285573835}\n"
     ]
    },
    {
     "name": "stderr",
     "output_type": "stream",
     "text": [
      "INFO:bdrk:New metrics logged: with x=66, metrics={'Training Logloss': 0.47472524651018505, 'Training AUC': 0.7134533285573835}\n"
     ]
    },
    {
     "name": "stdout",
     "output_type": "stream",
     "text": [
      "New metrics logged: with x=67, metrics={'Training Logloss': 0.47497984753297995, 'Training AUC': 0.7131363078584705}\n"
     ]
    },
    {
     "name": "stderr",
     "output_type": "stream",
     "text": [
      "INFO:bdrk:New metrics logged: with x=67, metrics={'Training Logloss': 0.47497984753297995, 'Training AUC': 0.7131363078584705}\n"
     ]
    },
    {
     "name": "stdout",
     "output_type": "stream",
     "text": [
      "New metrics logged: with x=68, metrics={'Training Logloss': 0.47477381573889665, 'Training AUC': 0.7158230892408107}\n"
     ]
    },
    {
     "name": "stderr",
     "output_type": "stream",
     "text": [
      "INFO:bdrk:New metrics logged: with x=68, metrics={'Training Logloss': 0.47477381573889665, 'Training AUC': 0.7158230892408107}\n"
     ]
    },
    {
     "name": "stdout",
     "output_type": "stream",
     "text": [
      "New metrics logged: with x=69, metrics={'Training Logloss': 0.4749095799224697, 'Training AUC': 0.7155582861439974}\n"
     ]
    },
    {
     "name": "stderr",
     "output_type": "stream",
     "text": [
      "INFO:bdrk:New metrics logged: with x=69, metrics={'Training Logloss': 0.4749095799224697, 'Training AUC': 0.7155582861439974}\n"
     ]
    },
    {
     "name": "stdout",
     "output_type": "stream",
     "text": [
      "New metrics logged: with x=70, metrics={'Training Logloss': 0.4749482632654307, 'Training AUC': 0.715560143687155}\n"
     ]
    },
    {
     "name": "stderr",
     "output_type": "stream",
     "text": [
      "INFO:bdrk:New metrics logged: with x=70, metrics={'Training Logloss': 0.4749482632654307, 'Training AUC': 0.715560143687155}\n"
     ]
    },
    {
     "name": "stdout",
     "output_type": "stream",
     "text": [
      "New metrics logged: with x=71, metrics={'Training Logloss': 0.47502399275948604, 'Training AUC': 0.715560143687155}\n"
     ]
    },
    {
     "name": "stderr",
     "output_type": "stream",
     "text": [
      "INFO:bdrk:New metrics logged: with x=71, metrics={'Training Logloss': 0.47502399275948604, 'Training AUC': 0.715560143687155}\n"
     ]
    },
    {
     "name": "stdout",
     "output_type": "stream",
     "text": [
      "New metrics logged: with x=72, metrics={'Training Logloss': 0.47466155649400915, 'Training AUC': 0.7158532227187022}\n"
     ]
    },
    {
     "name": "stderr",
     "output_type": "stream",
     "text": [
      "INFO:bdrk:New metrics logged: with x=72, metrics={'Training Logloss': 0.47466155649400915, 'Training AUC': 0.7158532227187022}\n"
     ]
    },
    {
     "name": "stdout",
     "output_type": "stream",
     "text": [
      "New metrics logged: with x=73, metrics={'Training Logloss': 0.47497435614343286, 'Training AUC': 0.7153898688976998}\n"
     ]
    },
    {
     "name": "stderr",
     "output_type": "stream",
     "text": [
      "INFO:bdrk:New metrics logged: with x=73, metrics={'Training Logloss': 0.47497435614343286, 'Training AUC': 0.7153898688976998}\n"
     ]
    },
    {
     "name": "stdout",
     "output_type": "stream",
     "text": [
      "New metrics logged: with x=74, metrics={'Training Logloss': 0.47502136792301375, 'Training AUC': 0.7156898621176673}\n"
     ]
    },
    {
     "name": "stderr",
     "output_type": "stream",
     "text": [
      "INFO:bdrk:New metrics logged: with x=74, metrics={'Training Logloss': 0.47502136792301375, 'Training AUC': 0.7156898621176673}\n"
     ]
    },
    {
     "name": "stdout",
     "output_type": "stream",
     "text": [
      "New metrics logged: with x=75, metrics={'Training Logloss': 0.47493043034818355, 'Training AUC': 0.7157073023839812}\n"
     ]
    },
    {
     "name": "stderr",
     "output_type": "stream",
     "text": [
      "INFO:bdrk:New metrics logged: with x=75, metrics={'Training Logloss': 0.47493043034818355, 'Training AUC': 0.7157073023839812}\n"
     ]
    },
    {
     "name": "stdout",
     "output_type": "stream",
     "text": [
      "New metrics logged: with x=76, metrics={'Training Logloss': 0.47252008542528084, 'Training AUC': 0.7193459714377972}\n"
     ]
    },
    {
     "name": "stderr",
     "output_type": "stream",
     "text": [
      "INFO:bdrk:New metrics logged: with x=76, metrics={'Training Logloss': 0.47252008542528084, 'Training AUC': 0.7193459714377972}\n"
     ]
    },
    {
     "name": "stdout",
     "output_type": "stream",
     "text": [
      "New metrics logged: with x=77, metrics={'Training Logloss': 0.47368507739477334, 'Training AUC': 0.7182546648326524}\n"
     ]
    },
    {
     "name": "stderr",
     "output_type": "stream",
     "text": [
      "INFO:bdrk:New metrics logged: with x=77, metrics={'Training Logloss': 0.47368507739477334, 'Training AUC': 0.7182546648326524}\n"
     ]
    },
    {
     "name": "stdout",
     "output_type": "stream",
     "text": [
      "New metrics logged: with x=78, metrics={'Training Logloss': 0.4738777808148101, 'Training AUC': 0.7176402308348243}\n"
     ]
    },
    {
     "name": "stderr",
     "output_type": "stream",
     "text": [
      "INFO:bdrk:New metrics logged: with x=78, metrics={'Training Logloss': 0.4738777808148101, 'Training AUC': 0.7176402308348243}\n"
     ]
    },
    {
     "name": "stdout",
     "output_type": "stream",
     "text": [
      "New metrics logged: with x=79, metrics={'Training Logloss': 0.4739149618683434, 'Training AUC': 0.7176927580274501}\n"
     ]
    },
    {
     "name": "stderr",
     "output_type": "stream",
     "text": [
      "INFO:bdrk:New metrics logged: with x=79, metrics={'Training Logloss': 0.4739149618683434, 'Training AUC': 0.7176927580274501}\n"
     ]
    },
    {
     "name": "stdout",
     "output_type": "stream",
     "text": [
      "New metrics logged: with x=80, metrics={'Training Logloss': 0.4738807642735286, 'Training AUC': 0.7179140120568999}\n"
     ]
    },
    {
     "name": "stderr",
     "output_type": "stream",
     "text": [
      "INFO:bdrk:New metrics logged: with x=80, metrics={'Training Logloss': 0.4738807642735286, 'Training AUC': 0.7179140120568999}\n"
     ]
    },
    {
     "name": "stdout",
     "output_type": "stream",
     "text": [
      "New metrics logged: with x=81, metrics={'Training Logloss': 0.4736466976181153, 'Training AUC': 0.7184014107421102}\n"
     ]
    },
    {
     "name": "stderr",
     "output_type": "stream",
     "text": [
      "INFO:bdrk:New metrics logged: with x=81, metrics={'Training Logloss': 0.4736466976181153, 'Training AUC': 0.7184014107421102}\n"
     ]
    },
    {
     "name": "stdout",
     "output_type": "stream",
     "text": [
      "New metrics logged: with x=82, metrics={'Training Logloss': 0.4737908721318939, 'Training AUC': 0.7189737404283639}\n"
     ]
    },
    {
     "name": "stderr",
     "output_type": "stream",
     "text": [
      "INFO:bdrk:New metrics logged: with x=82, metrics={'Training Logloss': 0.4737908721318939, 'Training AUC': 0.7189737404283639}\n"
     ]
    },
    {
     "name": "stdout",
     "output_type": "stream",
     "text": [
      "New metrics logged: with x=83, metrics={'Training Logloss': 0.47955459568313896, 'Training AUC': 0.7245281556588143}\n"
     ]
    },
    {
     "name": "stderr",
     "output_type": "stream",
     "text": [
      "INFO:bdrk:New metrics logged: with x=83, metrics={'Training Logloss': 0.47955459568313896, 'Training AUC': 0.7245281556588143}\n"
     ]
    },
    {
     "name": "stdout",
     "output_type": "stream",
     "text": [
      "New metrics logged: with x=84, metrics={'Training Logloss': 0.4802300987380902, 'Training AUC': 0.7246944057714279}\n"
     ]
    },
    {
     "name": "stderr",
     "output_type": "stream",
     "text": [
      "INFO:bdrk:New metrics logged: with x=84, metrics={'Training Logloss': 0.4802300987380902, 'Training AUC': 0.7246944057714279}\n"
     ]
    },
    {
     "name": "stdout",
     "output_type": "stream",
     "text": [
      "New metrics logged: with x=85, metrics={'Training Logloss': 0.4795823164503822, 'Training AUC': 0.7250074017934992}\n"
     ]
    },
    {
     "name": "stderr",
     "output_type": "stream",
     "text": [
      "INFO:bdrk:New metrics logged: with x=85, metrics={'Training Logloss': 0.4795823164503822, 'Training AUC': 0.7250074017934992}\n"
     ]
    },
    {
     "name": "stdout",
     "output_type": "stream",
     "text": [
      "New metrics logged: with x=86, metrics={'Training Logloss': 0.47931276318745625, 'Training AUC': 0.7230261256221351}\n"
     ]
    },
    {
     "name": "stderr",
     "output_type": "stream",
     "text": [
      "INFO:bdrk:New metrics logged: with x=86, metrics={'Training Logloss': 0.47931276318745625, 'Training AUC': 0.7230261256221351}\n"
     ]
    },
    {
     "name": "stdout",
     "output_type": "stream",
     "text": [
      "New metrics logged: with x=87, metrics={'Training Logloss': 0.4799718393067046, 'Training AUC': 0.7230462490063434}\n"
     ]
    },
    {
     "name": "stderr",
     "output_type": "stream",
     "text": [
      "INFO:bdrk:New metrics logged: with x=87, metrics={'Training Logloss': 0.4799718393067046, 'Training AUC': 0.7230462490063434}\n"
     ]
    },
    {
     "name": "stdout",
     "output_type": "stream",
     "text": [
      "New metrics logged: with x=88, metrics={'Training Logloss': 0.48097014130032373, 'Training AUC': 0.7248551864514104}\n"
     ]
    },
    {
     "name": "stderr",
     "output_type": "stream",
     "text": [
      "INFO:bdrk:New metrics logged: with x=88, metrics={'Training Logloss': 0.48097014130032373, 'Training AUC': 0.7248551864514104}\n"
     ]
    },
    {
     "name": "stdout",
     "output_type": "stream",
     "text": [
      "New metrics logged: with x=89, metrics={'Training Logloss': 0.481119085660561, 'Training AUC': 0.7250081241713938}\n"
     ]
    },
    {
     "name": "stderr",
     "output_type": "stream",
     "text": [
      "INFO:bdrk:New metrics logged: with x=89, metrics={'Training Logloss': 0.481119085660561, 'Training AUC': 0.7250081241713938}\n"
     ]
    },
    {
     "name": "stdout",
     "output_type": "stream",
     "text": [
      "New metrics logged: with x=90, metrics={'Training Logloss': 0.481020562450739, 'Training AUC': 0.7251824236376907}\n"
     ]
    },
    {
     "name": "stderr",
     "output_type": "stream",
     "text": [
      "INFO:bdrk:New metrics logged: with x=90, metrics={'Training Logloss': 0.481020562450739, 'Training AUC': 0.7251824236376907}\n"
     ]
    },
    {
     "name": "stdout",
     "output_type": "stream",
     "text": [
      "New metrics logged: with x=91, metrics={'Training Logloss': 0.48027780923395147, 'Training AUC': 0.7247962610545747}\n"
     ]
    },
    {
     "name": "stderr",
     "output_type": "stream",
     "text": [
      "INFO:bdrk:New metrics logged: with x=91, metrics={'Training Logloss': 0.48027780923395147, 'Training AUC': 0.7247962610545747}\n"
     ]
    },
    {
     "name": "stdout",
     "output_type": "stream",
     "text": [
      "New metrics logged: with x=92, metrics={'Training Logloss': 0.4805248393021235, 'Training AUC': 0.724544357563023}\n"
     ]
    },
    {
     "name": "stderr",
     "output_type": "stream",
     "text": [
      "INFO:bdrk:New metrics logged: with x=92, metrics={'Training Logloss': 0.4805248393021235, 'Training AUC': 0.724544357563023}\n"
     ]
    },
    {
     "name": "stdout",
     "output_type": "stream",
     "text": [
      "New metrics logged: with x=93, metrics={'Training Logloss': 0.4811877935600423, 'Training AUC': 0.7245983295114383}\n"
     ]
    },
    {
     "name": "stderr",
     "output_type": "stream",
     "text": [
      "INFO:bdrk:New metrics logged: with x=93, metrics={'Training Logloss': 0.4811877935600423, 'Training AUC': 0.7245983295114383}\n"
     ]
    },
    {
     "name": "stdout",
     "output_type": "stream",
     "text": [
      "New metrics logged: with x=94, metrics={'Training Logloss': 0.4811154529346409, 'Training AUC': 0.7250029643292891}\n"
     ]
    },
    {
     "name": "stderr",
     "output_type": "stream",
     "text": [
      "INFO:bdrk:New metrics logged: with x=94, metrics={'Training Logloss': 0.4811154529346409, 'Training AUC': 0.7250029643292891}\n"
     ]
    },
    {
     "name": "stdout",
     "output_type": "stream",
     "text": [
      "New metrics logged: with x=95, metrics={'Training Logloss': 0.48203432717205325, 'Training AUC': 0.7255046041787084}\n"
     ]
    },
    {
     "name": "stderr",
     "output_type": "stream",
     "text": [
      "INFO:bdrk:New metrics logged: with x=95, metrics={'Training Logloss': 0.48203432717205325, 'Training AUC': 0.7255046041787084}\n"
     ]
    },
    {
     "name": "stdout",
     "output_type": "stream",
     "text": [
      "New metrics logged: with x=96, metrics={'Training Logloss': 0.4781810548901937, 'Training AUC': 0.723999065449398}\n"
     ]
    },
    {
     "name": "stderr",
     "output_type": "stream",
     "text": [
      "INFO:bdrk:New metrics logged: with x=96, metrics={'Training Logloss': 0.4781810548901937, 'Training AUC': 0.723999065449398}\n"
     ]
    },
    {
     "name": "stdout",
     "output_type": "stream",
     "text": [
      "New metrics logged: with x=97, metrics={'Training Logloss': 0.47823888939405246, 'Training AUC': 0.723973782223085}\n"
     ]
    },
    {
     "name": "stderr",
     "output_type": "stream",
     "text": [
      "INFO:bdrk:New metrics logged: with x=97, metrics={'Training Logloss': 0.47823888939405246, 'Training AUC': 0.723973782223085}\n"
     ]
    },
    {
     "name": "stdout",
     "output_type": "stream",
     "text": [
      "New metrics logged: with x=98, metrics={'Training Logloss': 0.47818770584792847, 'Training AUC': 0.7201024558887679}\n"
     ]
    },
    {
     "name": "stderr",
     "output_type": "stream",
     "text": [
      "INFO:bdrk:New metrics logged: with x=98, metrics={'Training Logloss': 0.47818770584792847, 'Training AUC': 0.7201024558887679}\n"
     ]
    },
    {
     "name": "stdout",
     "output_type": "stream",
     "text": [
      "New metrics logged: with x=99, metrics={'Training Logloss': 0.4775292063642178, 'Training AUC': 0.718453783139473}\n"
     ]
    },
    {
     "name": "stderr",
     "output_type": "stream",
     "text": [
      "INFO:bdrk:New metrics logged: with x=99, metrics={'Training Logloss': 0.4775292063642178, 'Training AUC': 0.718453783139473}\n"
     ]
    },
    {
     "name": "stdout",
     "output_type": "stream",
     "text": [
      "Confusion matrix logged\n"
     ]
    },
    {
     "name": "stderr",
     "output_type": "stream",
     "text": [
      "INFO:bdrk:Confusion matrix logged\n"
     ]
    },
    {
     "name": "stdout",
     "output_type": "stream",
     "text": [
      "New metrics logged: with x=0, metrics={'Accuracy': 0.7641333333333333}\n"
     ]
    },
    {
     "name": "stderr",
     "output_type": "stream",
     "text": [
      "INFO:bdrk:New metrics logged: with x=0, metrics={'Accuracy': 0.7641333333333333}\n"
     ]
    },
    {
     "name": "stdout",
     "output_type": "stream",
     "text": [
      "New metrics logged: with x=0, metrics={'Precision': 0.8756457564575646}\n"
     ]
    },
    {
     "name": "stderr",
     "output_type": "stream",
     "text": [
      "INFO:bdrk:New metrics logged: with x=0, metrics={'Precision': 0.8756457564575646}\n"
     ]
    },
    {
     "name": "stdout",
     "output_type": "stream",
     "text": [
      "New metrics logged: with x=0, metrics={'Recall': 0.8125321006676939}\n"
     ]
    },
    {
     "name": "stderr",
     "output_type": "stream",
     "text": [
      "INFO:bdrk:New metrics logged: with x=0, metrics={'Recall': 0.8125321006676939}\n"
     ]
    },
    {
     "name": "stdout",
     "output_type": "stream",
     "text": [
      "New metrics logged: with x=0, metrics={'F1 score': 0.8429091554924074}\n"
     ]
    },
    {
     "name": "stderr",
     "output_type": "stream",
     "text": [
      "INFO:bdrk:New metrics logged: with x=0, metrics={'F1 score': 0.8429091554924074}\n"
     ]
    },
    {
     "name": "stdout",
     "output_type": "stream",
     "text": [
      "New metrics logged: with x=0, metrics={'ROC AUC': 0.7653903900417525}\n"
     ]
    },
    {
     "name": "stderr",
     "output_type": "stream",
     "text": [
      "INFO:bdrk:New metrics logged: with x=0, metrics={'ROC AUC': 0.7653903900417525}\n"
     ]
    },
    {
     "name": "stdout",
     "output_type": "stream",
     "text": [
      "New metrics logged: with x=0, metrics={'Avg precision': 0.9023771463505136}\n"
     ]
    },
    {
     "name": "stderr",
     "output_type": "stream",
     "text": [
      "INFO:bdrk:New metrics logged: with x=0, metrics={'Avg precision': 0.9023771463505136}\n"
     ]
    },
    {
     "name": "stdout",
     "output_type": "stream",
     "text": [
      "Model logged: /artefact/model.pkl\n"
     ]
    },
    {
     "name": "stderr",
     "output_type": "stream",
     "text": [
      "INFO:bdrk:Model logged: /artefact/model.pkl\n"
     ]
    },
    {
     "name": "stdout",
     "output_type": "stream",
     "text": [
      "Model version created: rest-credit-scoring-v13\n"
     ]
    },
    {
     "name": "stderr",
     "output_type": "stream",
     "text": [
      "INFO:bdrk:Model version created: rest-credit-scoring-v13\n"
     ]
    },
    {
     "name": "stdout",
     "output_type": "stream",
     "text": [
      "Run Succeeded: rest-credit-scoring-run20\n"
     ]
    },
    {
     "name": "stderr",
     "output_type": "stream",
     "text": [
      "INFO:bdrk:Run Succeeded: rest-credit-scoring-run20\n"
     ]
    },
    {
     "name": "stdout",
     "output_type": "stream",
     "text": [
      "Run exitted\n"
     ]
    },
    {
     "name": "stderr",
     "output_type": "stream",
     "text": [
      "INFO:bdrk:Run exitted\n"
     ]
    }
   ],
   "source": [
    "# Log the Run\n",
    "compute_log_notebook_metrics(model=model, \n",
    "                             x_train=x_train, \n",
    "                             x_test=x_test, \n",
    "                             y_test=y_test, \n",
    "                             best_th=TH,\n",
    "                             model_name=model_name, \n",
    "                             model_type=model_type,\n",
    "                             access_token=os.environ[\"BEDROCK_API_TOKEN\"],\n",
    "                             project_id=PROJECT_ID,\n",
    "                             pipeline_id=PIPELINE_ID,\n",
    "                             environment_id=ENVIRONMENT_ID,\n",
    "                             env_params=ENV_PARAMS)"
   ]
  },
  {
   "cell_type": "code",
   "execution_count": null,
   "metadata": {},
   "outputs": [],
   "source": []
  }
 ],
 "metadata": {
  "kernelspec": {
   "display_name": "Python 3 (ipykernel)",
   "language": "python",
   "name": "python3"
  },
  "language_info": {
   "codemirror_mode": {
    "name": "ipython",
    "version": 3
   },
   "file_extension": ".py",
   "mimetype": "text/x-python",
   "name": "python",
   "nbconvert_exporter": "python",
   "pygments_lexer": "ipython3",
   "version": "3.8.8"
  }
 },
 "nbformat": 4,
 "nbformat_minor": 4
}
