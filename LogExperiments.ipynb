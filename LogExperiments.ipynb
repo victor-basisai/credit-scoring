{
 "cells": [
  {
   "cell_type": "code",
   "execution_count": 3,
   "metadata": {},
   "outputs": [],
   "source": [
    "\"\"\"\n",
    "Python script for training a model version\n",
    "\"\"\"\n",
    "# Core\n",
    "import os\n",
    "import json\n",
    "import logging\n",
    "import pickle\n",
    "import sys\n",
    "\n",
    "# Third-party\n",
    "import pandas as pd\n",
    "import numpy as np\n",
    "import matplotlib.pyplot as plt\n",
    "from sklearn.preprocessing import StandardScaler\n",
    "from sklearn.linear_model import LogisticRegression\n",
    "from sklearn.pipeline import Pipeline\n",
    "from sklearn.model_selection import StratifiedKFold, cross_validate, cross_val_score\n",
    "from sklearn.calibration import calibration_curve\n",
    "from sklearn import metrics\n",
    "import utils.credit as utils\n",
    "\n",
    "# Bedrock\n",
    "import bdrk\n",
    "from bedrock_client.bedrock.analyzer.model_analyzer import ModelAnalyzer\n",
    "from bedrock_client.bedrock.analyzer import ModelTypes\n",
    "from bedrock_client.bedrock.api import BedrockApi\n",
    "from bedrock_client.bedrock.metrics.service import ModelMonitoringService"
   ]
  },
  {
   "cell_type": "code",
   "execution_count": 4,
   "metadata": {},
   "outputs": [],
   "source": [
    "# Environmental params for Bedrock\n",
    "# These are usually captured in the Bedrock HCL\n",
    "DATA_DIR_LOCAL = \"data/creditdata\"\n",
    "SEED = 3\n",
    "TH = 0.5\n",
    "LR_REGULARIZER = 1e-1\n",
    "RF_N_ESTIMATORS = 100\n",
    "CB_ITERATIONS = 100\n",
    "\n",
    "ENV_PARAMS = {\n",
    "    \"DATA_DIR_LOCAL\": DATA_DIR_LOCAL, \n",
    "    \"SEED\": SEED, \n",
    "    \"TH\": TH,\n",
    "    \"LR_REGULARIZER\": LR_REGULARIZER,\n",
    "    \"RF_N_ESTIMATORS\": RF_N_ESTIMATORS,\n",
    "    \"CB_ITERATIONS\": CB_ITERATIONS\n",
    "}\n",
    "\n",
    "OUTPUT_MODEL_PATH = \"/artefact/model.pkl\"\n",
    "FEATURE_COLS_PATH = \"/artefact/feature_cols.pkl\""
   ]
  },
  {
   "cell_type": "code",
   "execution_count": 5,
   "metadata": {},
   "outputs": [],
   "source": [
    "# Params for Bedrock Client\n",
    "# Not required if training pipeline is run via UI\n",
    "PROJECT_ID = \"victor-sandbox\"\n",
    "PIPELINE_ID = \"rest-credit-scoring\"\n",
    "ENVIRONMENT_ID = \"sandbox-aws-production\""
   ]
  },
  {
   "cell_type": "markdown",
   "metadata": {},
   "source": [
    "# Step 1: Train the model"
   ]
  },
  {
   "cell_type": "code",
   "execution_count": 6,
   "metadata": {},
   "outputs": [
    {
     "name": "stdout",
     "output_type": "stream",
     "text": [
      "upsampling...\n",
      "scaling...\n",
      "fitting...\n",
      "iterations: 100\n",
      "Learning rate set to 0.207699\n",
      "0:\tlearn: 0.6491446\ttest: 0.6328665\tbest: 0.6328665 (0)\ttotal: 68.2ms\tremaining: 6.75s\n",
      "1:\tlearn: 0.6228604\ttest: 0.5886179\tbest: 0.5886179 (1)\ttotal: 81.3ms\tremaining: 3.98s\n",
      "2:\tlearn: 0.6064690\ttest: 0.5651676\tbest: 0.5651676 (2)\ttotal: 93.2ms\tremaining: 3.01s\n",
      "3:\tlearn: 0.5918356\ttest: 0.5480203\tbest: 0.5480203 (3)\ttotal: 107ms\tremaining: 2.56s\n",
      "4:\tlearn: 0.5831894\ttest: 0.5392667\tbest: 0.5392667 (4)\ttotal: 121ms\tremaining: 2.29s\n",
      "5:\tlearn: 0.5764743\ttest: 0.5241029\tbest: 0.5241029 (5)\ttotal: 133ms\tremaining: 2.09s\n",
      "6:\tlearn: 0.5710503\ttest: 0.5170072\tbest: 0.5170072 (6)\ttotal: 146ms\tremaining: 1.94s\n",
      "7:\tlearn: 0.5671574\ttest: 0.5124887\tbest: 0.5124887 (7)\ttotal: 159ms\tremaining: 1.82s\n",
      "8:\tlearn: 0.5630429\ttest: 0.4944809\tbest: 0.4944809 (8)\ttotal: 171ms\tremaining: 1.73s\n",
      "9:\tlearn: 0.5604393\ttest: 0.4863527\tbest: 0.4863527 (9)\ttotal: 184ms\tremaining: 1.66s\n",
      "10:\tlearn: 0.5517968\ttest: 0.4852290\tbest: 0.4852290 (10)\ttotal: 197ms\tremaining: 1.59s\n",
      "11:\tlearn: 0.5492307\ttest: 0.4750342\tbest: 0.4750342 (11)\ttotal: 228ms\tremaining: 1.67s\n",
      "12:\tlearn: 0.5462329\ttest: 0.4718377\tbest: 0.4718377 (12)\ttotal: 241ms\tremaining: 1.61s\n",
      "13:\tlearn: 0.5435844\ttest: 0.4661482\tbest: 0.4661482 (13)\ttotal: 254ms\tremaining: 1.56s\n",
      "14:\tlearn: 0.5418569\ttest: 0.4715561\tbest: 0.4661482 (13)\ttotal: 267ms\tremaining: 1.51s\n",
      "15:\tlearn: 0.5387371\ttest: 0.4714829\tbest: 0.4661482 (13)\ttotal: 279ms\tremaining: 1.46s\n",
      "16:\tlearn: 0.5362174\ttest: 0.4718811\tbest: 0.4661482 (13)\ttotal: 292ms\tremaining: 1.43s\n",
      "17:\tlearn: 0.5341545\ttest: 0.4730935\tbest: 0.4661482 (13)\ttotal: 327ms\tremaining: 1.49s\n",
      "18:\tlearn: 0.5330679\ttest: 0.4633841\tbest: 0.4633841 (18)\ttotal: 340ms\tremaining: 1.45s\n",
      "19:\tlearn: 0.5318068\ttest: 0.4673172\tbest: 0.4633841 (18)\ttotal: 352ms\tremaining: 1.41s\n",
      "20:\tlearn: 0.5300070\ttest: 0.4703020\tbest: 0.4633841 (18)\ttotal: 365ms\tremaining: 1.37s\n",
      "21:\tlearn: 0.5284942\ttest: 0.4714845\tbest: 0.4633841 (18)\ttotal: 378ms\tremaining: 1.34s\n",
      "22:\tlearn: 0.5268478\ttest: 0.4760835\tbest: 0.4633841 (18)\ttotal: 391ms\tremaining: 1.31s\n",
      "23:\tlearn: 0.5238149\ttest: 0.4754179\tbest: 0.4633841 (18)\ttotal: 424ms\tremaining: 1.34s\n",
      "24:\tlearn: 0.5206310\ttest: 0.4726482\tbest: 0.4633841 (18)\ttotal: 438ms\tremaining: 1.31s\n",
      "25:\tlearn: 0.5192146\ttest: 0.4673766\tbest: 0.4633841 (18)\ttotal: 450ms\tremaining: 1.28s\n",
      "26:\tlearn: 0.5182708\ttest: 0.4650032\tbest: 0.4633841 (18)\ttotal: 463ms\tremaining: 1.25s\n",
      "27:\tlearn: 0.5166410\ttest: 0.4664284\tbest: 0.4633841 (18)\ttotal: 476ms\tremaining: 1.22s\n",
      "28:\tlearn: 0.5154330\ttest: 0.4671803\tbest: 0.4633841 (18)\ttotal: 489ms\tremaining: 1.2s\n",
      "29:\tlearn: 0.5140387\ttest: 0.4669699\tbest: 0.4633841 (18)\ttotal: 502ms\tremaining: 1.17s\n",
      "30:\tlearn: 0.5106852\ttest: 0.4688683\tbest: 0.4633841 (18)\ttotal: 534ms\tremaining: 1.19s\n",
      "31:\tlearn: 0.5099645\ttest: 0.4648187\tbest: 0.4633841 (18)\ttotal: 546ms\tremaining: 1.16s\n",
      "32:\tlearn: 0.5087189\ttest: 0.4657823\tbest: 0.4633841 (18)\ttotal: 559ms\tremaining: 1.13s\n",
      "33:\tlearn: 0.5080736\ttest: 0.4666828\tbest: 0.4633841 (18)\ttotal: 571ms\tremaining: 1.11s\n",
      "34:\tlearn: 0.5069914\ttest: 0.4672290\tbest: 0.4633841 (18)\ttotal: 584ms\tremaining: 1.08s\n",
      "35:\tlearn: 0.5063649\ttest: 0.4671361\tbest: 0.4633841 (18)\ttotal: 597ms\tremaining: 1.06s\n",
      "36:\tlearn: 0.5028872\ttest: 0.4670541\tbest: 0.4633841 (18)\ttotal: 629ms\tremaining: 1.07s\n",
      "37:\tlearn: 0.4993437\ttest: 0.4668929\tbest: 0.4633841 (18)\ttotal: 642ms\tremaining: 1.05s\n",
      "38:\tlearn: 0.4980301\ttest: 0.4678745\tbest: 0.4633841 (18)\ttotal: 655ms\tremaining: 1.02s\n",
      "39:\tlearn: 0.4966400\ttest: 0.4679215\tbest: 0.4633841 (18)\ttotal: 668ms\tremaining: 1s\n",
      "40:\tlearn: 0.4958107\ttest: 0.4696342\tbest: 0.4633841 (18)\ttotal: 680ms\tremaining: 979ms\n",
      "41:\tlearn: 0.4952345\ttest: 0.4714258\tbest: 0.4633841 (18)\ttotal: 693ms\tremaining: 957ms\n",
      "42:\tlearn: 0.4941749\ttest: 0.4710551\tbest: 0.4633841 (18)\ttotal: 724ms\tremaining: 959ms\n",
      "43:\tlearn: 0.4929033\ttest: 0.4725094\tbest: 0.4633841 (18)\ttotal: 738ms\tremaining: 939ms\n",
      "44:\tlearn: 0.4921397\ttest: 0.4730596\tbest: 0.4633841 (18)\ttotal: 750ms\tremaining: 917ms\n",
      "45:\tlearn: 0.4912629\ttest: 0.4728422\tbest: 0.4633841 (18)\ttotal: 765ms\tremaining: 898ms\n",
      "46:\tlearn: 0.4904656\ttest: 0.4716066\tbest: 0.4633841 (18)\ttotal: 778ms\tremaining: 877ms\n",
      "47:\tlearn: 0.4865770\ttest: 0.4717209\tbest: 0.4633841 (18)\ttotal: 799ms\tremaining: 865ms\n",
      "48:\tlearn: 0.4840722\ttest: 0.4714849\tbest: 0.4633841 (18)\ttotal: 824ms\tremaining: 858ms\n",
      "49:\tlearn: 0.4825836\ttest: 0.4715872\tbest: 0.4633841 (18)\ttotal: 838ms\tremaining: 838ms\n",
      "50:\tlearn: 0.4816728\ttest: 0.4712920\tbest: 0.4633841 (18)\ttotal: 851ms\tremaining: 818ms\n",
      "51:\tlearn: 0.4803223\ttest: 0.4716036\tbest: 0.4633841 (18)\ttotal: 865ms\tremaining: 798ms\n",
      "52:\tlearn: 0.4795166\ttest: 0.4721371\tbest: 0.4633841 (18)\ttotal: 877ms\tremaining: 778ms\n",
      "53:\tlearn: 0.4784947\ttest: 0.4720519\tbest: 0.4633841 (18)\ttotal: 891ms\tremaining: 759ms\n",
      "54:\tlearn: 0.4772698\ttest: 0.4720210\tbest: 0.4633841 (18)\ttotal: 921ms\tremaining: 754ms\n",
      "55:\tlearn: 0.4732698\ttest: 0.4720879\tbest: 0.4633841 (18)\ttotal: 934ms\tremaining: 734ms\n",
      "56:\tlearn: 0.4699245\ttest: 0.4721143\tbest: 0.4633841 (18)\ttotal: 950ms\tremaining: 716ms\n",
      "57:\tlearn: 0.4650509\ttest: 0.4721613\tbest: 0.4633841 (18)\ttotal: 963ms\tremaining: 698ms\n",
      "58:\tlearn: 0.4640560\ttest: 0.4746628\tbest: 0.4633841 (18)\ttotal: 976ms\tremaining: 678ms\n",
      "59:\tlearn: 0.4575254\ttest: 0.4747062\tbest: 0.4633841 (18)\ttotal: 991ms\tremaining: 661ms\n",
      "60:\tlearn: 0.4518543\ttest: 0.4746914\tbest: 0.4633841 (18)\ttotal: 1.02s\tremaining: 652ms\n",
      "61:\tlearn: 0.4496770\ttest: 0.4748506\tbest: 0.4633841 (18)\ttotal: 1.03s\tremaining: 632ms\n",
      "62:\tlearn: 0.4486845\ttest: 0.4742104\tbest: 0.4633841 (18)\ttotal: 1.04s\tremaining: 613ms\n",
      "63:\tlearn: 0.4473830\ttest: 0.4741936\tbest: 0.4633841 (18)\ttotal: 1.06s\tremaining: 594ms\n",
      "64:\tlearn: 0.4453461\ttest: 0.4742147\tbest: 0.4633841 (18)\ttotal: 1.07s\tremaining: 575ms\n",
      "65:\tlearn: 0.4445056\ttest: 0.4740842\tbest: 0.4633841 (18)\ttotal: 1.08s\tremaining: 557ms\n",
      "66:\tlearn: 0.4435498\ttest: 0.4747252\tbest: 0.4633841 (18)\ttotal: 1.11s\tremaining: 549ms\n",
      "67:\tlearn: 0.4424179\ttest: 0.4749798\tbest: 0.4633841 (18)\ttotal: 1.13s\tremaining: 530ms\n",
      "68:\tlearn: 0.4408410\ttest: 0.4747738\tbest: 0.4633841 (18)\ttotal: 1.14s\tremaining: 512ms\n",
      "69:\tlearn: 0.4397207\ttest: 0.4749096\tbest: 0.4633841 (18)\ttotal: 1.15s\tremaining: 494ms\n",
      "70:\tlearn: 0.4388494\ttest: 0.4749483\tbest: 0.4633841 (18)\ttotal: 1.17s\tremaining: 477ms\n",
      "71:\tlearn: 0.4380043\ttest: 0.4750240\tbest: 0.4633841 (18)\ttotal: 1.18s\tremaining: 459ms\n",
      "72:\tlearn: 0.4371283\ttest: 0.4746616\tbest: 0.4633841 (18)\ttotal: 1.21s\tremaining: 448ms\n",
      "73:\tlearn: 0.4360289\ttest: 0.4749744\tbest: 0.4633841 (18)\ttotal: 1.22s\tremaining: 430ms\n",
      "74:\tlearn: 0.4350964\ttest: 0.4750214\tbest: 0.4633841 (18)\ttotal: 1.24s\tremaining: 413ms\n",
      "75:\tlearn: 0.4339057\ttest: 0.4749304\tbest: 0.4633841 (18)\ttotal: 1.25s\tremaining: 395ms\n",
      "76:\tlearn: 0.4332382\ttest: 0.4725201\tbest: 0.4633841 (18)\ttotal: 1.26s\tremaining: 377ms\n",
      "77:\tlearn: 0.4316490\ttest: 0.4736851\tbest: 0.4633841 (18)\ttotal: 1.27s\tremaining: 360ms\n",
      "78:\tlearn: 0.4307089\ttest: 0.4738778\tbest: 0.4633841 (18)\ttotal: 1.29s\tremaining: 342ms\n",
      "79:\tlearn: 0.4267127\ttest: 0.4739150\tbest: 0.4633841 (18)\ttotal: 1.32s\tremaining: 330ms\n",
      "80:\tlearn: 0.4253090\ttest: 0.4738808\tbest: 0.4633841 (18)\ttotal: 1.33s\tremaining: 313ms\n",
      "81:\tlearn: 0.4241093\ttest: 0.4736467\tbest: 0.4633841 (18)\ttotal: 1.35s\tremaining: 296ms\n",
      "82:\tlearn: 0.4236062\ttest: 0.4737909\tbest: 0.4633841 (18)\ttotal: 1.36s\tremaining: 279ms\n",
      "83:\tlearn: 0.4229726\ttest: 0.4795546\tbest: 0.4633841 (18)\ttotal: 1.37s\tremaining: 262ms\n",
      "84:\tlearn: 0.4223144\ttest: 0.4802301\tbest: 0.4633841 (18)\ttotal: 1.39s\tremaining: 245ms\n",
      "85:\tlearn: 0.4211220\ttest: 0.4795823\tbest: 0.4633841 (18)\ttotal: 1.42s\tremaining: 231ms\n",
      "86:\tlearn: 0.4204801\ttest: 0.4793128\tbest: 0.4633841 (18)\ttotal: 1.43s\tremaining: 214ms\n",
      "87:\tlearn: 0.4166674\ttest: 0.4799718\tbest: 0.4633841 (18)\ttotal: 1.44s\tremaining: 197ms\n",
      "88:\tlearn: 0.4159440\ttest: 0.4809701\tbest: 0.4633841 (18)\ttotal: 1.46s\tremaining: 180ms\n",
      "89:\tlearn: 0.4131375\ttest: 0.4811191\tbest: 0.4633841 (18)\ttotal: 1.47s\tremaining: 163ms\n",
      "90:\tlearn: 0.4098983\ttest: 0.4810206\tbest: 0.4633841 (18)\ttotal: 1.48s\tremaining: 147ms\n",
      "91:\tlearn: 0.4054147\ttest: 0.4802778\tbest: 0.4633841 (18)\ttotal: 1.52s\tremaining: 132ms\n",
      "92:\tlearn: 0.4046002\ttest: 0.4805248\tbest: 0.4633841 (18)\ttotal: 1.53s\tremaining: 115ms\n",
      "93:\tlearn: 0.4032494\ttest: 0.4811878\tbest: 0.4633841 (18)\ttotal: 1.54s\tremaining: 98.4ms\n",
      "94:\tlearn: 0.4020989\ttest: 0.4811155\tbest: 0.4633841 (18)\ttotal: 1.55s\tremaining: 81.8ms\n",
      "95:\tlearn: 0.4015435\ttest: 0.4820343\tbest: 0.4633841 (18)\ttotal: 1.57s\tremaining: 65.4ms\n",
      "96:\tlearn: 0.4010192\ttest: 0.4781811\tbest: 0.4633841 (18)\ttotal: 1.58s\tremaining: 48.9ms\n",
      "97:\tlearn: 0.3993289\ttest: 0.4782389\tbest: 0.4633841 (18)\ttotal: 1.61s\tremaining: 32.9ms\n",
      "98:\tlearn: 0.3971164\ttest: 0.4781877\tbest: 0.4633841 (18)\ttotal: 1.63s\tremaining: 16.4ms\n",
      "99:\tlearn: 0.3963939\ttest: 0.4775292\tbest: 0.4633841 (18)\ttotal: 1.64s\tremaining: 0us\n",
      "\n",
      "bestTest = 0.4633840826\n",
      "bestIteration = 18\n",
      "\n",
      "Shrink model to first 19 iterations.\n",
      "chaining pipeline...\n",
      "done.\n"
     ]
    }
   ],
   "source": [
    "# Extraneous columns (as might be determined through feature selection)\n",
    "drop_cols = ['ID']\n",
    "\n",
    "# --- Data ETL ---\n",
    "# Load into pandas dataframes\n",
    "# x_<name> : features\n",
    "# y_<name> : labels\n",
    "x_train, y_train = utils.load_dataset(os.path.join(DATA_DIR_LOCAL, 'creditdata_train_v2.csv'), drop_columns=drop_cols)\n",
    "x_test, y_test = utils.load_dataset(os.path.join(DATA_DIR_LOCAL, 'creditdata_test_v2.csv'), drop_columns=drop_cols)\n",
    "\n",
    "\n",
    "# --- Candidate Binary Classification Algos ---\n",
    "# MODEL 1: LOGISTIC REGRESSION\n",
    "# Use best parameters from a model selection and threshold tuning process\n",
    "# model = utils.train_log_reg_model(x_train, y_train, seed=SEED, C=LR_REGULARIZER, upsample=True, verbose=True)\n",
    "# model_name = \"logreg_model\"\n",
    "# model_type = ModelTypes.LINEAR\n",
    "\n",
    "# MODEL 2: RANDOM FOREST\n",
    "# Uses default threshold of 0.5 and model parameters\n",
    "# model = utils.train_rf_model(x_train, y_train, seed=SEED, upsample=True, verbose=True)\n",
    "# model_name = \"randomforest_model\"\n",
    "# model_type = ModelTypes.TREE\n",
    "\n",
    "# MODEL 3: CATBOOST\n",
    "# Uses default threshold of 0.5 and model parameters\n",
    "model = utils.train_catboost_model(x_train, y_train, seed=SEED, upsample=True, verbose=True, iterations=CB_ITERATIONS, eval_data=x_test, eval_labels=y_test)\n",
    "model_name = \"catboost_model\"\n",
    "model_type = ModelTypes.TREE"
   ]
  },
  {
   "cell_type": "markdown",
   "metadata": {},
   "source": [
    "# Step 2: Logging Metrics via Bedrock Client Library\n",
    "- This bypasses the need to write Bedrock HCL or run Git-linked training pipelines\n",
    "- Metrics will appear as a \"pipeline\" in the \"Training\" tab in the Bedrock workspace"
   ]
  },
  {
   "cell_type": "code",
   "execution_count": 7,
   "metadata": {},
   "outputs": [],
   "source": [
    "# You can customize the logging logic here\n",
    "_logger = logging.getLogger(bdrk.utils.vars.Constants.MAIN_LOG)\n",
    "_logger.setLevel(logging.INFO)\n",
    "if not _logger.handlers:\n",
    "    _logger.addHandler(logging.StreamHandler(stream=sys.stdout))\n",
    "\n",
    "# Visit https://bedrock.basis-ai.com/setting/token/ to get the personal access token.\n",
    "# os.environ[\"BEDROCK_API_TOKEN\"]"
   ]
  },
  {
   "cell_type": "code",
   "execution_count": 8,
   "metadata": {},
   "outputs": [],
   "source": [
    "def compute_log_notebook_metrics(model, x_train, \n",
    "                                x_test, y_test, \n",
    "                                best_th=0.5,\n",
    "                                model_name=\"tree_model\", \n",
    "                                model_type=ModelTypes.TREE,\n",
    "                                access_token=None,\n",
    "                                project_id=None,\n",
    "                                pipeline_id=None,\n",
    "                                environment_id=None,\n",
    "                                env_params=None):\n",
    "    \n",
    "    bdrk.init(access_token=access_token, project_id=project_id)\n",
    "    with bdrk.start_run(pipeline_id=pipeline_id, environment_id=environment_id):\n",
    "    \n",
    "        bdrk.log_params(env_params)\n",
    "        \n",
    "        # Compute and log test metrics\n",
    "        test_prob = model.predict_proba(x_test)[:, 1]\n",
    "        test_pred = np.where(test_prob > best_th, 1, 0)\n",
    "\n",
    "        acc = metrics.accuracy_score(y_test, test_pred)\n",
    "        precision = metrics.precision_score(y_test, test_pred)\n",
    "        recall = metrics.recall_score(y_test, test_pred)\n",
    "        f1_score = metrics.f1_score(y_test, test_pred)\n",
    "        roc_auc = metrics.roc_auc_score(y_test, test_prob)\n",
    "        avg_prc = metrics.average_precision_score(y_test, test_prob)\n",
    "        print(\"Evaluation\\n\"\n",
    "              f\"  Accuracy          = {acc:.4f}\\n\"\n",
    "              f\"  Precision         = {precision:.4f}\\n\"\n",
    "              f\"  Recall            = {recall:.4f}\\n\"\n",
    "              f\"  F1 score          = {f1_score:.4f}\\n\"\n",
    "              f\"  ROC AUC           = {roc_auc:.4f}\\n\"\n",
    "              f\"  Average precision = {avg_prc:.4f}\")\n",
    "\n",
    "        # --- Bedrock-native Integrations ---\n",
    "        # Bedrock Logger: captures model metrics\n",
    "\n",
    "        # Optional: Log metrics for each training step\n",
    "        evals = model[1].evals_result_[\"validation\"]\n",
    "        for iteration in range(len(evals[\"Logloss\"])):\n",
    "            bdrk.log_metrics(metrics={\n",
    "                \"Training Logloss\": evals[\"Logloss\"][iteration],\n",
    "                \"Training AUC\": evals[\"AUC\"][iteration]\n",
    "            }, x=iteration)\n",
    "        \n",
    "        # Log into charts, the binary classifier from the predicted data\n",
    "        bdrk.log_binary_classifier_metrics(actual=y_test.astype(int).tolist(),\n",
    "                                           probability=test_prob.flatten().tolist())\n",
    "\n",
    "        # Log final key-value pairs\n",
    "        bdrk.log_metric(\"Accuracy\", acc)\n",
    "        bdrk.log_metric(\"Precision\", precision)\n",
    "        bdrk.log_metric(\"Recall\", recall)\n",
    "        bdrk.log_metric(\"F1 score\", f1_score)\n",
    "        bdrk.log_metric(\"ROC AUC\", roc_auc)\n",
    "        bdrk.log_metric(\"Avg precision\", avg_prc)\n",
    "\n",
    "        # Alternative: Log dict of key-value pairs\n",
    "        # e.g. bdrk.log_metrics(metrics={\"Accuracy\": acc})\n",
    "        \n",
    "        # Saving and log the model\n",
    "        with open(OUTPUT_MODEL_PATH, \"wb\") as model_file:\n",
    "            pickle.dump(model, model_file)\n",
    "        bdrk.log_model(OUTPUT_MODEL_PATH)\n"
   ]
  },
  {
   "cell_type": "code",
   "execution_count": 9,
   "metadata": {},
   "outputs": [
    {
     "name": "stdout",
     "output_type": "stream",
     "text": [
      "BedrockClient initialized on project=victor-sandbox\n"
     ]
    },
    {
     "name": "stderr",
     "output_type": "stream",
     "text": [
      "INFO:bdrk:BedrockClient initialized on project=victor-sandbox\n"
     ]
    },
    {
     "name": "stdout",
     "output_type": "stream",
     "text": [
      "Run started: rest-credit-scoring-run20\n"
     ]
    },
    {
     "name": "stderr",
     "output_type": "stream",
     "text": [
      "INFO:bdrk:Run started: rest-credit-scoring-run20\n"
     ]
    },
    {
     "name": "stdout",
     "output_type": "stream",
     "text": [
      "Params updated: {'DATA_DIR_LOCAL': 'data/creditdata', 'SEED': '3', 'TH': '0.5', 'LR_REGULARIZER': '0.1', 'RF_N_ESTIMATORS': '100', 'CB_ITERATIONS': '100'}\n"
     ]
    },
    {
     "name": "stderr",
     "output_type": "stream",
     "text": [
      "INFO:bdrk:Params updated: {'DATA_DIR_LOCAL': 'data/creditdata', 'SEED': '3', 'TH': '0.5', 'LR_REGULARIZER': '0.1', 'RF_N_ESTIMATORS': '100', 'CB_ITERATIONS': '100'}\n"
     ]
    },
    {
     "name": "stdout",
     "output_type": "stream",
     "text": [
      "Evaluation\n",
      "  Accuracy          = 0.7641\n",
      "  Precision         = 0.8756\n",
      "  Recall            = 0.8125\n",
      "  F1 score          = 0.8429\n",
      "  ROC AUC           = 0.7654\n",
      "  Average precision = 0.9024\n",
      "New metrics logged: with x=0, metrics={'Training Logloss': 0.6328665080665294, 'Training AUC': 0.7177122622306059}\n"
     ]
    },
    {
     "name": "stderr",
     "output_type": "stream",
     "text": [
      "INFO:bdrk:New metrics logged: with x=0, metrics={'Training Logloss': 0.6328665080665294, 'Training AUC': 0.7177122622306059}\n"
     ]
    },
    {
     "name": "stdout",
     "output_type": "stream",
     "text": [
      "New metrics logged: with x=1, metrics={'Training Logloss': 0.5886178791888027, 'Training AUC': 0.7318601364943351}\n"
     ]
    },
    {
     "name": "stderr",
     "output_type": "stream",
     "text": [
      "INFO:bdrk:New metrics logged: with x=1, metrics={'Training Logloss': 0.5886178791888027, 'Training AUC': 0.7318601364943351}\n"
     ]
    },
    {
     "name": "stdout",
     "output_type": "stream",
     "text": [
      "New metrics logged: with x=2, metrics={'Training Logloss': 0.5651675524747942, 'Training AUC': 0.7276685903590001}\n"
     ]
    },
    {
     "name": "stderr",
     "output_type": "stream",
     "text": [
      "INFO:bdrk:New metrics logged: with x=2, metrics={'Training Logloss': 0.5651675524747942, 'Training AUC': 0.7276685903590001}\n"
     ]
    },
    {
     "name": "stdout",
     "output_type": "stream",
     "text": [
      "New metrics logged: with x=3, metrics={'Training Logloss': 0.5480202847789226, 'Training AUC': 0.733918965092533}\n"
     ]
    },
    {
     "name": "stderr",
     "output_type": "stream",
     "text": [
      "INFO:bdrk:New metrics logged: with x=3, metrics={'Training Logloss': 0.5480202847789226, 'Training AUC': 0.733918965092533}\n"
     ]
    },
    {
     "name": "stdout",
     "output_type": "stream",
     "text": [
      "New metrics logged: with x=4, metrics={'Training Logloss': 0.5392666616194849, 'Training AUC': 0.7279399464552865}\n"
     ]
    },
    {
     "name": "stderr",
     "output_type": "stream",
     "text": [
      "INFO:bdrk:New metrics logged: with x=4, metrics={'Training Logloss': 0.5392666616194849, 'Training AUC': 0.7279399464552865}\n"
     ]
    },
    {
     "name": "stdout",
     "output_type": "stream",
     "text": [
      "New metrics logged: with x=5, metrics={'Training Logloss': 0.5241028502702295, 'Training AUC': 0.7170831226827794}\n"
     ]
    },
    {
     "name": "stderr",
     "output_type": "stream",
     "text": [
      "INFO:bdrk:New metrics logged: with x=5, metrics={'Training Logloss': 0.5241028502702295, 'Training AUC': 0.7170831226827794}\n"
     ]
    },
    {
     "name": "stdout",
     "output_type": "stream",
     "text": [
      "New metrics logged: with x=6, metrics={'Training Logloss': 0.5170072102061595, 'Training AUC': 0.7117529541901995}\n"
     ]
    },
    {
     "name": "stderr",
     "output_type": "stream",
     "text": [
      "INFO:bdrk:New metrics logged: with x=6, metrics={'Training Logloss': 0.5170072102061595, 'Training AUC': 0.7117529541901995}\n"
     ]
    },
    {
     "name": "stdout",
     "output_type": "stream",
     "text": [
      "New metrics logged: with x=7, metrics={'Training Logloss': 0.5124886504883984, 'Training AUC': 0.7168283812780701}\n"
     ]
    },
    {
     "name": "stderr",
     "output_type": "stream",
     "text": [
      "INFO:bdrk:New metrics logged: with x=7, metrics={'Training Logloss': 0.5124886504883984, 'Training AUC': 0.7168283812780701}\n"
     ]
    },
    {
     "name": "stdout",
     "output_type": "stream",
     "text": [
      "New metrics logged: with x=8, metrics={'Training Logloss': 0.4944809083359679, 'Training AUC': 0.7209873172113035}\n"
     ]
    },
    {
     "name": "stderr",
     "output_type": "stream",
     "text": [
      "INFO:bdrk:New metrics logged: with x=8, metrics={'Training Logloss': 0.4944809083359679, 'Training AUC': 0.7209873172113035}\n"
     ]
    },
    {
     "name": "stdout",
     "output_type": "stream",
     "text": [
      "New metrics logged: with x=9, metrics={'Training Logloss': 0.4863527080820282, 'Training AUC': 0.7202327419019116}\n"
     ]
    },
    {
     "name": "stderr",
     "output_type": "stream",
     "text": [
      "INFO:bdrk:New metrics logged: with x=9, metrics={'Training Logloss': 0.4863527080820282, 'Training AUC': 0.7202327419019116}\n"
     ]
    },
    {
     "name": "stdout",
     "output_type": "stream",
     "text": [
      "New metrics logged: with x=10, metrics={'Training Logloss': 0.4852289536074355, 'Training AUC': 0.7203058052661142}\n"
     ]
    },
    {
     "name": "stderr",
     "output_type": "stream",
     "text": [
      "INFO:bdrk:New metrics logged: with x=10, metrics={'Training Logloss': 0.4852289536074355, 'Training AUC': 0.7203058052661142}\n"
     ]
    },
    {
     "name": "stdout",
     "output_type": "stream",
     "text": [
      "New metrics logged: with x=11, metrics={'Training Logloss': 0.47503420291304305, 'Training AUC': 0.72182491438016}\n"
     ]
    },
    {
     "name": "stderr",
     "output_type": "stream",
     "text": [
      "INFO:bdrk:New metrics logged: with x=11, metrics={'Training Logloss': 0.47503420291304305, 'Training AUC': 0.72182491438016}\n"
     ]
    },
    {
     "name": "stdout",
     "output_type": "stream",
     "text": [
      "New metrics logged: with x=12, metrics={'Training Logloss': 0.471837736453061, 'Training AUC': 0.7198544738772158}\n"
     ]
    },
    {
     "name": "stderr",
     "output_type": "stream",
     "text": [
      "INFO:bdrk:New metrics logged: with x=12, metrics={'Training Logloss': 0.471837736453061, 'Training AUC': 0.7198544738772158}\n"
     ]
    },
    {
     "name": "stdout",
     "output_type": "stream",
     "text": [
      "New metrics logged: with x=13, metrics={'Training Logloss': 0.46614824970151136, 'Training AUC': 0.7216050019096576}\n"
     ]
    },
    {
     "name": "stderr",
     "output_type": "stream",
     "text": [
      "INFO:bdrk:New metrics logged: with x=13, metrics={'Training Logloss': 0.46614824970151136, 'Training AUC': 0.7216050019096576}\n"
     ]
    },
    {
     "name": "stdout",
     "output_type": "stream",
     "text": [
      "New metrics logged: with x=14, metrics={'Training Logloss': 0.47155607254190735, 'Training AUC': 0.7127506096611439}\n"
     ]
    },
    {
     "name": "stderr",
     "output_type": "stream",
     "text": [
      "INFO:bdrk:New metrics logged: with x=14, metrics={'Training Logloss': 0.47155607254190735, 'Training AUC': 0.7127506096611439}\n"
     ]
    },
    {
     "name": "stdout",
     "output_type": "stream",
     "text": [
      "New metrics logged: with x=15, metrics={'Training Logloss': 0.47148293842367706, 'Training AUC': 0.7127100533022009}\n"
     ]
    },
    {
     "name": "stderr",
     "output_type": "stream",
     "text": [
      "INFO:bdrk:New metrics logged: with x=15, metrics={'Training Logloss': 0.47148293842367706, 'Training AUC': 0.7127100533022009}\n"
     ]
    },
    {
     "name": "stdout",
     "output_type": "stream",
     "text": [
      "New metrics logged: with x=16, metrics={'Training Logloss': 0.4718811168476328, 'Training AUC': 0.7152675806398183}\n"
     ]
    },
    {
     "name": "stderr",
     "output_type": "stream",
     "text": [
      "INFO:bdrk:New metrics logged: with x=16, metrics={'Training Logloss': 0.4718811168476328, 'Training AUC': 0.7152675806398183}\n"
     ]
    },
    {
     "name": "stdout",
     "output_type": "stream",
     "text": [
      "New metrics logged: with x=17, metrics={'Training Logloss': 0.47309347236601856, 'Training AUC': 0.7165314839633655}\n"
     ]
    },
    {
     "name": "stderr",
     "output_type": "stream",
     "text": [
      "INFO:bdrk:New metrics logged: with x=17, metrics={'Training Logloss': 0.47309347236601856, 'Training AUC': 0.7165314839633655}\n"
     ]
    },
    {
     "name": "stdout",
     "output_type": "stream",
     "text": [
      "New metrics logged: with x=18, metrics={'Training Logloss': 0.46338408259429453, 'Training AUC': 0.7210902560612923}\n"
     ]
    },
    {
     "name": "stderr",
     "output_type": "stream",
     "text": [
      "INFO:bdrk:New metrics logged: with x=18, metrics={'Training Logloss': 0.46338408259429453, 'Training AUC': 0.7210902560612923}\n"
     ]
    },
    {
     "name": "stdout",
     "output_type": "stream",
     "text": [
      "New metrics logged: with x=19, metrics={'Training Logloss': 0.4673171534256742, 'Training AUC': 0.7187788015936482}\n"
     ]
    },
    {
     "name": "stderr",
     "output_type": "stream",
     "text": [
      "INFO:bdrk:New metrics logged: with x=19, metrics={'Training Logloss': 0.4673171534256742, 'Training AUC': 0.7187788015936482}\n"
     ]
    },
    {
     "name": "stdout",
     "output_type": "stream",
     "text": [
      "New metrics logged: with x=20, metrics={'Training Logloss': 0.4703019849598734, 'Training AUC': 0.7196880689693391}\n"
     ]
    },
    {
     "name": "stderr",
     "output_type": "stream",
     "text": [
      "INFO:bdrk:New metrics logged: with x=20, metrics={'Training Logloss': 0.4703019849598734, 'Training AUC': 0.7196880689693391}\n"
     ]
    },
    {
     "name": "stdout",
     "output_type": "stream",
     "text": [
      "New metrics logged: with x=21, metrics={'Training Logloss': 0.4714844597587456, 'Training AUC': 0.7187793175778586}\n"
     ]
    },
    {
     "name": "stderr",
     "output_type": "stream",
     "text": [
      "INFO:bdrk:New metrics logged: with x=21, metrics={'Training Logloss': 0.4714844597587456, 'Training AUC': 0.7187793175778586}\n"
     ]
    },
    {
     "name": "stdout",
     "output_type": "stream",
     "text": [
      "New metrics logged: with x=22, metrics={'Training Logloss': 0.4760835217136693, 'Training AUC': 0.718628237401033}\n"
     ]
    },
    {
     "name": "stderr",
     "output_type": "stream",
     "text": [
      "INFO:bdrk:New metrics logged: with x=22, metrics={'Training Logloss': 0.4760835217136693, 'Training AUC': 0.718628237401033}\n"
     ]
    },
    {
     "name": "stdout",
     "output_type": "stream",
     "text": [
      "New metrics logged: with x=23, metrics={'Training Logloss': 0.475417935844703, 'Training AUC': 0.7193876113635822}\n"
     ]
    },
    {
     "name": "stderr",
     "output_type": "stream",
     "text": [
      "INFO:bdrk:New metrics logged: with x=23, metrics={'Training Logloss': 0.475417935844703, 'Training AUC': 0.7193876113635822}\n"
     ]
    },
    {
     "name": "stdout",
     "output_type": "stream",
     "text": [
      "New metrics logged: with x=24, metrics={'Training Logloss': 0.47264823462365246, 'Training AUC': 0.7172163498059229}\n"
     ]
    },
    {
     "name": "stderr",
     "output_type": "stream",
     "text": [
      "INFO:bdrk:New metrics logged: with x=24, metrics={'Training Logloss': 0.47264823462365246, 'Training AUC': 0.7172163498059229}\n"
     ]
    },
    {
     "name": "stdout",
     "output_type": "stream",
     "text": [
      "New metrics logged: with x=25, metrics={'Training Logloss': 0.46737662314955775, 'Training AUC': 0.7169934446269997}\n"
     ]
    },
    {
     "name": "stderr",
     "output_type": "stream",
     "text": [
      "INFO:bdrk:New metrics logged: with x=25, metrics={'Training Logloss': 0.46737662314955775, 'Training AUC': 0.7169934446269997}\n"
     ]
    },
    {
     "name": "stdout",
     "output_type": "stream",
     "text": [
      "New metrics logged: with x=26, metrics={'Training Logloss': 0.4650031745766321, 'Training AUC': 0.7158914571486981}\n"
     ]
    },
    {
     "name": "stderr",
     "output_type": "stream",
     "text": [
      "INFO:bdrk:New metrics logged: with x=26, metrics={'Training Logloss': 0.4650031745766321, 'Training AUC': 0.7158914571486981}\n"
     ]
    },
    {
     "name": "stdout",
     "output_type": "stream",
     "text": [
      "New metrics logged: with x=27, metrics={'Training Logloss': 0.4664284162977506, 'Training AUC': 0.712823157041136}\n"
     ]
    },
    {
     "name": "stderr",
     "output_type": "stream",
     "text": [
      "INFO:bdrk:New metrics logged: with x=27, metrics={'Training Logloss': 0.4664284162977506, 'Training AUC': 0.712823157041136}\n"
     ]
    },
    {
     "name": "stdout",
     "output_type": "stream",
     "text": [
      "New metrics logged: with x=28, metrics={'Training Logloss': 0.46718033068895937, 'Training AUC': 0.7118362856401904}\n"
     ]
    },
    {
     "name": "stderr",
     "output_type": "stream",
     "text": [
      "INFO:bdrk:New metrics logged: with x=28, metrics={'Training Logloss': 0.46718033068895937, 'Training AUC': 0.7118362856401904}\n"
     ]
    },
    {
     "name": "stdout",
     "output_type": "stream",
     "text": [
      "New metrics logged: with x=29, metrics={'Training Logloss': 0.46696988148800467, 'Training AUC': 0.7121770416127851}\n"
     ]
    },
    {
     "name": "stderr",
     "output_type": "stream",
     "text": [
      "INFO:bdrk:New metrics logged: with x=29, metrics={'Training Logloss': 0.46696988148800467, 'Training AUC': 0.7121770416127851}\n"
     ]
    },
    {
     "name": "stdout",
     "output_type": "stream",
     "text": [
      "New metrics logged: with x=30, metrics={'Training Logloss': 0.4688683217125581, 'Training AUC': 0.710386782796137}\n"
     ]
    },
    {
     "name": "stderr",
     "output_type": "stream",
     "text": [
      "INFO:bdrk:New metrics logged: with x=30, metrics={'Training Logloss': 0.4688683217125581, 'Training AUC': 0.710386782796137}\n"
     ]
    },
    {
     "name": "stdout",
     "output_type": "stream",
     "text": [
      "New metrics logged: with x=31, metrics={'Training Logloss': 0.4648186695414863, 'Training AUC': 0.7162757621886564}\n"
     ]
    },
    {
     "name": "stderr",
     "output_type": "stream",
     "text": [
      "INFO:bdrk:New metrics logged: with x=31, metrics={'Training Logloss': 0.4648186695414863, 'Training AUC': 0.7162757621886564}\n"
     ]
    },
    {
     "name": "stdout",
     "output_type": "stream",
     "text": [
      "New metrics logged: with x=32, metrics={'Training Logloss': 0.4657822573480314, 'Training AUC': 0.7129968889248014}\n"
     ]
    },
    {
     "name": "stderr",
     "output_type": "stream",
     "text": [
      "INFO:bdrk:New metrics logged: with x=32, metrics={'Training Logloss': 0.4657822573480314, 'Training AUC': 0.7129968889248014}\n"
     ]
    },
    {
     "name": "stdout",
     "output_type": "stream",
     "text": [
      "New metrics logged: with x=33, metrics={'Training Logloss': 0.46668281492711905, 'Training AUC': 0.7136325814721008}\n"
     ]
    },
    {
     "name": "stderr",
     "output_type": "stream",
     "text": [
      "INFO:bdrk:New metrics logged: with x=33, metrics={'Training Logloss': 0.46668281492711905, 'Training AUC': 0.7136325814721008}\n"
     ]
    },
    {
     "name": "stdout",
     "output_type": "stream",
     "text": [
      "New metrics logged: with x=34, metrics={'Training Logloss': 0.46722896654723417, 'Training AUC': 0.7135052365689568}\n"
     ]
    },
    {
     "name": "stderr",
     "output_type": "stream",
     "text": [
      "INFO:bdrk:New metrics logged: with x=34, metrics={'Training Logloss': 0.46722896654723417, 'Training AUC': 0.7135052365689568}\n"
     ]
    },
    {
     "name": "stdout",
     "output_type": "stream",
     "text": [
      "New metrics logged: with x=35, metrics={'Training Logloss': 0.4671360845119125, 'Training AUC': 0.71428550789203}\n"
     ]
    },
    {
     "name": "stderr",
     "output_type": "stream",
     "text": [
      "INFO:bdrk:New metrics logged: with x=35, metrics={'Training Logloss': 0.4671360845119125, 'Training AUC': 0.71428550789203}\n"
     ]
    },
    {
     "name": "stdout",
     "output_type": "stream",
     "text": [
      "New metrics logged: with x=36, metrics={'Training Logloss': 0.4670540687223736, 'Training AUC': 0.7144121304172796}\n"
     ]
    },
    {
     "name": "stderr",
     "output_type": "stream",
     "text": [
      "INFO:bdrk:New metrics logged: with x=36, metrics={'Training Logloss': 0.4670540687223736, 'Training AUC': 0.7144121304172796}\n"
     ]
    },
    {
     "name": "stdout",
     "output_type": "stream",
     "text": [
      "New metrics logged: with x=37, metrics={'Training Logloss': 0.4668928913636553, 'Training AUC': 0.7150163479277404}\n"
     ]
    },
    {
     "name": "stderr",
     "output_type": "stream",
     "text": [
      "INFO:bdrk:New metrics logged: with x=37, metrics={'Training Logloss': 0.4668928913636553, 'Training AUC': 0.7150163479277404}\n"
     ]
    },
    {
     "name": "stdout",
     "output_type": "stream",
     "text": [
      "New metrics logged: with x=38, metrics={'Training Logloss': 0.4678745449299488, 'Training AUC': 0.7155220124540013}\n"
     ]
    },
    {
     "name": "stderr",
     "output_type": "stream",
     "text": [
      "INFO:bdrk:New metrics logged: with x=38, metrics={'Training Logloss': 0.4678745449299488, 'Training AUC': 0.7155220124540013}\n"
     ]
    },
    {
     "name": "stdout",
     "output_type": "stream",
     "text": [
      "New metrics logged: with x=39, metrics={'Training Logloss': 0.4679214719959393, 'Training AUC': 0.7150810007493122}\n"
     ]
    },
    {
     "name": "stderr",
     "output_type": "stream",
     "text": [
      "INFO:bdrk:New metrics logged: with x=39, metrics={'Training Logloss': 0.4679214719959393, 'Training AUC': 0.7150810007493122}\n"
     ]
    },
    {
     "name": "stdout",
     "output_type": "stream",
     "text": [
      "New metrics logged: with x=40, metrics={'Training Logloss': 0.4696341868399349, 'Training AUC': 0.7131402809368911}\n"
     ]
    },
    {
     "name": "stderr",
     "output_type": "stream",
     "text": [
      "INFO:bdrk:New metrics logged: with x=40, metrics={'Training Logloss': 0.4696341868399349, 'Training AUC': 0.7131402809368911}\n"
     ]
    },
    {
     "name": "stdout",
     "output_type": "stream",
     "text": [
      "New metrics logged: with x=41, metrics={'Training Logloss': 0.47142578729444845, 'Training AUC': 0.7136796908305169}\n"
     ]
    },
    {
     "name": "stderr",
     "output_type": "stream",
     "text": [
      "INFO:bdrk:New metrics logged: with x=41, metrics={'Training Logloss': 0.47142578729444845, 'Training AUC': 0.7136796908305169}\n"
     ]
    },
    {
     "name": "stdout",
     "output_type": "stream",
     "text": [
      "New metrics logged: with x=42, metrics={'Training Logloss': 0.47105510853963534, 'Training AUC': 0.7136397536526264}\n"
     ]
    },
    {
     "name": "stderr",
     "output_type": "stream",
     "text": [
      "INFO:bdrk:New metrics logged: with x=42, metrics={'Training Logloss': 0.47105510853963534, 'Training AUC': 0.7136397536526264}\n"
     ]
    },
    {
     "name": "stdout",
     "output_type": "stream",
     "text": [
      "New metrics logged: with x=43, metrics={'Training Logloss': 0.47250941567766325, 'Training AUC': 0.7081437994332223}\n"
     ]
    },
    {
     "name": "stderr",
     "output_type": "stream",
     "text": [
      "INFO:bdrk:New metrics logged: with x=43, metrics={'Training Logloss': 0.47250941567766325, 'Training AUC': 0.7081437994332223}\n"
     ]
    },
    {
     "name": "stdout",
     "output_type": "stream",
     "text": [
      "New metrics logged: with x=44, metrics={'Training Logloss': 0.47305961220373643, 'Training AUC': 0.7073023323827872}\n"
     ]
    },
    {
     "name": "stderr",
     "output_type": "stream",
     "text": [
      "INFO:bdrk:New metrics logged: with x=44, metrics={'Training Logloss': 0.47305961220373643, 'Training AUC': 0.7073023323827872}\n"
     ]
    },
    {
     "name": "stdout",
     "output_type": "stream",
     "text": [
      "New metrics logged: with x=45, metrics={'Training Logloss': 0.47284216749750396, 'Training AUC': 0.7081628908490097}\n"
     ]
    },
    {
     "name": "stderr",
     "output_type": "stream",
     "text": [
      "INFO:bdrk:New metrics logged: with x=45, metrics={'Training Logloss': 0.47284216749750396, 'Training AUC': 0.7081628908490097}\n"
     ]
    },
    {
     "name": "stdout",
     "output_type": "stream",
     "text": [
      "New metrics logged: with x=46, metrics={'Training Logloss': 0.47160663815297854, 'Training AUC': 0.7116468162381057}\n"
     ]
    },
    {
     "name": "stderr",
     "output_type": "stream",
     "text": [
      "INFO:bdrk:New metrics logged: with x=46, metrics={'Training Logloss': 0.47160663815297854, 'Training AUC': 0.7116468162381057}\n"
     ]
    },
    {
     "name": "stdout",
     "output_type": "stream",
     "text": [
      "New metrics logged: with x=47, metrics={'Training Logloss': 0.47172088643295496, 'Training AUC': 0.7117361847033591}\n"
     ]
    },
    {
     "name": "stderr",
     "output_type": "stream",
     "text": [
      "INFO:bdrk:New metrics logged: with x=47, metrics={'Training Logloss': 0.47172088643295496, 'Training AUC': 0.7117361847033591}\n"
     ]
    },
    {
     "name": "stdout",
     "output_type": "stream",
     "text": [
      "New metrics logged: with x=48, metrics={'Training Logloss': 0.4714848513004301, 'Training AUC': 0.7124464369690716}\n"
     ]
    },
    {
     "name": "stderr",
     "output_type": "stream",
     "text": [
      "INFO:bdrk:New metrics logged: with x=48, metrics={'Training Logloss': 0.4714848513004301, 'Training AUC': 0.7124464369690716}\n"
     ]
    },
    {
     "name": "stdout",
     "output_type": "stream",
     "text": [
      "New metrics logged: with x=49, metrics={'Training Logloss': 0.47158720354131717, 'Training AUC': 0.7124464369690716}\n"
     ]
    },
    {
     "name": "stderr",
     "output_type": "stream",
     "text": [
      "INFO:bdrk:New metrics logged: with x=49, metrics={'Training Logloss': 0.47158720354131717, 'Training AUC': 0.7124464369690716}\n"
     ]
    },
    {
     "name": "stdout",
     "output_type": "stream",
     "text": [
      "New metrics logged: with x=50, metrics={'Training Logloss': 0.4712920292157029, 'Training AUC': 0.7125901901701086}\n"
     ]
    },
    {
     "name": "stderr",
     "output_type": "stream",
     "text": [
      "INFO:bdrk:New metrics logged: with x=50, metrics={'Training Logloss': 0.4712920292157029, 'Training AUC': 0.7125901901701086}\n"
     ]
    },
    {
     "name": "stdout",
     "output_type": "stream",
     "text": [
      "New metrics logged: with x=51, metrics={'Training Logloss': 0.4716035582484801, 'Training AUC': 0.7102597990819403}\n"
     ]
    },
    {
     "name": "stderr",
     "output_type": "stream",
     "text": [
      "INFO:bdrk:New metrics logged: with x=51, metrics={'Training Logloss': 0.4716035582484801, 'Training AUC': 0.7102597990819403}\n"
     ]
    },
    {
     "name": "stdout",
     "output_type": "stream",
     "text": [
      "New metrics logged: with x=52, metrics={'Training Logloss': 0.47213705134744094, 'Training AUC': 0.7132162854110934}\n"
     ]
    },
    {
     "name": "stderr",
     "output_type": "stream",
     "text": [
      "INFO:bdrk:New metrics logged: with x=52, metrics={'Training Logloss': 0.47213705134744094, 'Training AUC': 0.7132162854110934}\n"
     ]
    },
    {
     "name": "stdout",
     "output_type": "stream",
     "text": [
      "New metrics logged: with x=53, metrics={'Training Logloss': 0.4720519065183805, 'Training AUC': 0.7132613824310885}\n"
     ]
    },
    {
     "name": "stderr",
     "output_type": "stream",
     "text": [
      "INFO:bdrk:New metrics logged: with x=53, metrics={'Training Logloss': 0.4720519065183805, 'Training AUC': 0.7132613824310885}\n"
     ]
    },
    {
     "name": "stdout",
     "output_type": "stream",
     "text": [
      "New metrics logged: with x=54, metrics={'Training Logloss': 0.4720210378245237, 'Training AUC': 0.7132241283710925}\n"
     ]
    },
    {
     "name": "stderr",
     "output_type": "stream",
     "text": [
      "INFO:bdrk:New metrics logged: with x=54, metrics={'Training Logloss': 0.4720210378245237, 'Training AUC': 0.7132241283710925}\n"
     ]
    },
    {
     "name": "stdout",
     "output_type": "stream",
     "text": [
      "New metrics logged: with x=55, metrics={'Training Logloss': 0.4720878755572799, 'Training AUC': 0.7144357624941191}\n"
     ]
    },
    {
     "name": "stderr",
     "output_type": "stream",
     "text": [
      "INFO:bdrk:New metrics logged: with x=55, metrics={'Training Logloss': 0.4720878755572799, 'Training AUC': 0.7144357624941191}\n"
     ]
    },
    {
     "name": "stdout",
     "output_type": "stream",
     "text": [
      "New metrics logged: with x=56, metrics={'Training Logloss': 0.4721142771592975, 'Training AUC': 0.7145788965141036}\n"
     ]
    },
    {
     "name": "stderr",
     "output_type": "stream",
     "text": [
      "INFO:bdrk:New metrics logged: with x=56, metrics={'Training Logloss': 0.4721142771592975, 'Training AUC': 0.7145788965141036}\n"
     ]
    },
    {
     "name": "stdout",
     "output_type": "stream",
     "text": [
      "New metrics logged: with x=57, metrics={'Training Logloss': 0.47216129716861355, 'Training AUC': 0.7146571197204109}\n"
     ]
    },
    {
     "name": "stderr",
     "output_type": "stream",
     "text": [
      "INFO:bdrk:New metrics logged: with x=57, metrics={'Training Logloss': 0.47216129716861355, 'Training AUC': 0.7146571197204109}\n"
     ]
    },
    {
     "name": "stdout",
     "output_type": "stream",
     "text": [
      "New metrics logged: with x=58, metrics={'Training Logloss': 0.4746627798186385, 'Training AUC': 0.7136273184331541}\n"
     ]
    },
    {
     "name": "stderr",
     "output_type": "stream",
     "text": [
      "INFO:bdrk:New metrics logged: with x=58, metrics={'Training Logloss': 0.4746627798186385, 'Training AUC': 0.7136273184331541}\n"
     ]
    },
    {
     "name": "stdout",
     "output_type": "stream",
     "text": [
      "New metrics logged: with x=59, metrics={'Training Logloss': 0.4747061719790151, 'Training AUC': 0.7136273184331541}\n"
     ]
    },
    {
     "name": "stderr",
     "output_type": "stream",
     "text": [
      "INFO:bdrk:New metrics logged: with x=59, metrics={'Training Logloss': 0.4747061719790151, 'Training AUC': 0.7136273184331541}\n"
     ]
    },
    {
     "name": "stdout",
     "output_type": "stream",
     "text": [
      "New metrics logged: with x=60, metrics={'Training Logloss': 0.4746913902545532, 'Training AUC': 0.7137340239678793}\n"
     ]
    },
    {
     "name": "stderr",
     "output_type": "stream",
     "text": [
      "INFO:bdrk:New metrics logged: with x=60, metrics={'Training Logloss': 0.4746913902545532, 'Training AUC': 0.7137340239678793}\n"
     ]
    },
    {
     "name": "stdout",
     "output_type": "stream",
     "text": [
      "New metrics logged: with x=61, metrics={'Training Logloss': 0.4748505986778359, 'Training AUC': 0.7137432084868257}\n"
     ]
    },
    {
     "name": "stderr",
     "output_type": "stream",
     "text": [
      "INFO:bdrk:New metrics logged: with x=61, metrics={'Training Logloss': 0.4748505986778359, 'Training AUC': 0.7137432084868257}\n"
     ]
    },
    {
     "name": "stdout",
     "output_type": "stream",
     "text": [
      "New metrics logged: with x=62, metrics={'Training Logloss': 0.4742104231419979, 'Training AUC': 0.7118856653291324}\n"
     ]
    },
    {
     "name": "stderr",
     "output_type": "stream",
     "text": [
      "INFO:bdrk:New metrics logged: with x=62, metrics={'Training Logloss': 0.4742104231419979, 'Training AUC': 0.7118856653291324}\n"
     ]
    },
    {
     "name": "stdout",
     "output_type": "stream",
     "text": [
      "New metrics logged: with x=63, metrics={'Training Logloss': 0.47419357217944375, 'Training AUC': 0.7118856653291324}\n"
     ]
    },
    {
     "name": "stderr",
     "output_type": "stream",
     "text": [
      "INFO:bdrk:New metrics logged: with x=63, metrics={'Training Logloss': 0.47419357217944375, 'Training AUC': 0.7118856653291324}\n"
     ]
    },
    {
     "name": "stdout",
     "output_type": "stream",
     "text": [
      "New metrics logged: with x=64, metrics={'Training Logloss': 0.474214732161845, 'Training AUC': 0.711889690005974}\n"
     ]
    },
    {
     "name": "stderr",
     "output_type": "stream",
     "text": [
      "INFO:bdrk:New metrics logged: with x=64, metrics={'Training Logloss': 0.474214732161845, 'Training AUC': 0.711889690005974}\n"
     ]
    },
    {
     "name": "stdout",
     "output_type": "stream",
     "text": [
      "New metrics logged: with x=65, metrics={'Training Logloss': 0.4740842410667597, 'Training AUC': 0.7120774050617432}\n"
     ]
    },
    {
     "name": "stderr",
     "output_type": "stream",
     "text": [
      "INFO:bdrk:New metrics logged: with x=65, metrics={'Training Logloss': 0.4740842410667597, 'Training AUC': 0.7120774050617432}\n"
     ]
    },
    {
     "name": "stdout",
     "output_type": "stream",
     "text": [
      "New metrics logged: with x=66, metrics={'Training Logloss': 0.47472524651018505, 'Training AUC': 0.7134533285573835}\n"
     ]
    },
    {
     "name": "stderr",
     "output_type": "stream",
     "text": [
      "INFO:bdrk:New metrics logged: with x=66, metrics={'Training Logloss': 0.47472524651018505, 'Training AUC': 0.7134533285573835}\n"
     ]
    },
    {
     "name": "stdout",
     "output_type": "stream",
     "text": [
      "New metrics logged: with x=67, metrics={'Training Logloss': 0.47497984753297995, 'Training AUC': 0.7131363078584705}\n"
     ]
    },
    {
     "name": "stderr",
     "output_type": "stream",
     "text": [
      "INFO:bdrk:New metrics logged: with x=67, metrics={'Training Logloss': 0.47497984753297995, 'Training AUC': 0.7131363078584705}\n"
     ]
    },
    {
     "name": "stdout",
     "output_type": "stream",
     "text": [
      "New metrics logged: with x=68, metrics={'Training Logloss': 0.47477381573889665, 'Training AUC': 0.7158230892408107}\n"
     ]
    },
    {
     "name": "stderr",
     "output_type": "stream",
     "text": [
      "INFO:bdrk:New metrics logged: with x=68, metrics={'Training Logloss': 0.47477381573889665, 'Training AUC': 0.7158230892408107}\n"
     ]
    },
    {
     "name": "stdout",
     "output_type": "stream",
     "text": [
      "New metrics logged: with x=69, metrics={'Training Logloss': 0.4749095799224697, 'Training AUC': 0.7155582861439974}\n"
     ]
    },
    {
     "name": "stderr",
     "output_type": "stream",
     "text": [
      "INFO:bdrk:New metrics logged: with x=69, metrics={'Training Logloss': 0.4749095799224697, 'Training AUC': 0.7155582861439974}\n"
     ]
    },
    {
     "name": "stdout",
     "output_type": "stream",
     "text": [
      "New metrics logged: with x=70, metrics={'Training Logloss': 0.4749482632654307, 'Training AUC': 0.715560143687155}\n"
     ]
    },
    {
     "name": "stderr",
     "output_type": "stream",
     "text": [
      "INFO:bdrk:New metrics logged: with x=70, metrics={'Training Logloss': 0.4749482632654307, 'Training AUC': 0.715560143687155}\n"
     ]
    },
    {
     "name": "stdout",
     "output_type": "stream",
     "text": [
      "New metrics logged: with x=71, metrics={'Training Logloss': 0.47502399275948604, 'Training AUC': 0.715560143687155}\n"
     ]
    },
    {
     "name": "stderr",
     "output_type": "stream",
     "text": [
      "INFO:bdrk:New metrics logged: with x=71, metrics={'Training Logloss': 0.47502399275948604, 'Training AUC': 0.715560143687155}\n"
     ]
    },
    {
     "name": "stdout",
     "output_type": "stream",
     "text": [
      "New metrics logged: with x=72, metrics={'Training Logloss': 0.47466155649400915, 'Training AUC': 0.7158532227187022}\n"
     ]
    },
    {
     "name": "stderr",
     "output_type": "stream",
     "text": [
      "INFO:bdrk:New metrics logged: with x=72, metrics={'Training Logloss': 0.47466155649400915, 'Training AUC': 0.7158532227187022}\n"
     ]
    },
    {
     "name": "stdout",
     "output_type": "stream",
     "text": [
      "New metrics logged: with x=73, metrics={'Training Logloss': 0.47497435614343286, 'Training AUC': 0.7153898688976998}\n"
     ]
    },
    {
     "name": "stderr",
     "output_type": "stream",
     "text": [
      "INFO:bdrk:New metrics logged: with x=73, metrics={'Training Logloss': 0.47497435614343286, 'Training AUC': 0.7153898688976998}\n"
     ]
    },
    {
     "name": "stdout",
     "output_type": "stream",
     "text": [
      "New metrics logged: with x=74, metrics={'Training Logloss': 0.47502136792301375, 'Training AUC': 0.7156898621176673}\n"
     ]
    },
    {
     "name": "stderr",
     "output_type": "stream",
     "text": [
      "INFO:bdrk:New metrics logged: with x=74, metrics={'Training Logloss': 0.47502136792301375, 'Training AUC': 0.7156898621176673}\n"
     ]
    },
    {
     "name": "stdout",
     "output_type": "stream",
     "text": [
      "New metrics logged: with x=75, metrics={'Training Logloss': 0.47493043034818355, 'Training AUC': 0.7157073023839812}\n"
     ]
    },
    {
     "name": "stderr",
     "output_type": "stream",
     "text": [
      "INFO:bdrk:New metrics logged: with x=75, metrics={'Training Logloss': 0.47493043034818355, 'Training AUC': 0.7157073023839812}\n"
     ]
    },
    {
     "name": "stdout",
     "output_type": "stream",
     "text": [
      "New metrics logged: with x=76, metrics={'Training Logloss': 0.47252008542528084, 'Training AUC': 0.7193459714377972}\n"
     ]
    },
    {
     "name": "stderr",
     "output_type": "stream",
     "text": [
      "INFO:bdrk:New metrics logged: with x=76, metrics={'Training Logloss': 0.47252008542528084, 'Training AUC': 0.7193459714377972}\n"
     ]
    },
    {
     "name": "stdout",
     "output_type": "stream",
     "text": [
      "New metrics logged: with x=77, metrics={'Training Logloss': 0.47368507739477334, 'Training AUC': 0.7182546648326524}\n"
     ]
    },
    {
     "name": "stderr",
     "output_type": "stream",
     "text": [
      "INFO:bdrk:New metrics logged: with x=77, metrics={'Training Logloss': 0.47368507739477334, 'Training AUC': 0.7182546648326524}\n"
     ]
    },
    {
     "name": "stdout",
     "output_type": "stream",
     "text": [
      "New metrics logged: with x=78, metrics={'Training Logloss': 0.4738777808148101, 'Training AUC': 0.7176402308348243}\n"
     ]
    },
    {
     "name": "stderr",
     "output_type": "stream",
     "text": [
      "INFO:bdrk:New metrics logged: with x=78, metrics={'Training Logloss': 0.4738777808148101, 'Training AUC': 0.7176402308348243}\n"
     ]
    },
    {
     "name": "stdout",
     "output_type": "stream",
     "text": [
      "New metrics logged: with x=79, metrics={'Training Logloss': 0.4739149618683434, 'Training AUC': 0.7176927580274501}\n"
     ]
    },
    {
     "name": "stderr",
     "output_type": "stream",
     "text": [
      "INFO:bdrk:New metrics logged: with x=79, metrics={'Training Logloss': 0.4739149618683434, 'Training AUC': 0.7176927580274501}\n"
     ]
    },
    {
     "name": "stdout",
     "output_type": "stream",
     "text": [
      "New metrics logged: with x=80, metrics={'Training Logloss': 0.4738807642735286, 'Training AUC': 0.7179140120568999}\n"
     ]
    },
    {
     "name": "stderr",
     "output_type": "stream",
     "text": [
      "INFO:bdrk:New metrics logged: with x=80, metrics={'Training Logloss': 0.4738807642735286, 'Training AUC': 0.7179140120568999}\n"
     ]
    },
    {
     "name": "stdout",
     "output_type": "stream",
     "text": [
      "New metrics logged: with x=81, metrics={'Training Logloss': 0.4736466976181153, 'Training AUC': 0.7184014107421102}\n"
     ]
    },
    {
     "name": "stderr",
     "output_type": "stream",
     "text": [
      "INFO:bdrk:New metrics logged: with x=81, metrics={'Training Logloss': 0.4736466976181153, 'Training AUC': 0.7184014107421102}\n"
     ]
    },
    {
     "name": "stdout",
     "output_type": "stream",
     "text": [
      "New metrics logged: with x=82, metrics={'Training Logloss': 0.4737908721318939, 'Training AUC': 0.7189737404283639}\n"
     ]
    },
    {
     "name": "stderr",
     "output_type": "stream",
     "text": [
      "INFO:bdrk:New metrics logged: with x=82, metrics={'Training Logloss': 0.4737908721318939, 'Training AUC': 0.7189737404283639}\n"
     ]
    },
    {
     "name": "stdout",
     "output_type": "stream",
     "text": [
      "New metrics logged: with x=83, metrics={'Training Logloss': 0.47955459568313896, 'Training AUC': 0.7245281556588143}\n"
     ]
    },
    {
     "name": "stderr",
     "output_type": "stream",
     "text": [
      "INFO:bdrk:New metrics logged: with x=83, metrics={'Training Logloss': 0.47955459568313896, 'Training AUC': 0.7245281556588143}\n"
     ]
    },
    {
     "name": "stdout",
     "output_type": "stream",
     "text": [
      "New metrics logged: with x=84, metrics={'Training Logloss': 0.4802300987380902, 'Training AUC': 0.7246944057714279}\n"
     ]
    },
    {
     "name": "stderr",
     "output_type": "stream",
     "text": [
      "INFO:bdrk:New metrics logged: with x=84, metrics={'Training Logloss': 0.4802300987380902, 'Training AUC': 0.7246944057714279}\n"
     ]
    },
    {
     "name": "stdout",
     "output_type": "stream",
     "text": [
      "New metrics logged: with x=85, metrics={'Training Logloss': 0.4795823164503822, 'Training AUC': 0.7250074017934992}\n"
     ]
    },
    {
     "name": "stderr",
     "output_type": "stream",
     "text": [
      "INFO:bdrk:New metrics logged: with x=85, metrics={'Training Logloss': 0.4795823164503822, 'Training AUC': 0.7250074017934992}\n"
     ]
    },
    {
     "name": "stdout",
     "output_type": "stream",
     "text": [
      "New metrics logged: with x=86, metrics={'Training Logloss': 0.47931276318745625, 'Training AUC': 0.7230261256221351}\n"
     ]
    },
    {
     "name": "stderr",
     "output_type": "stream",
     "text": [
      "INFO:bdrk:New metrics logged: with x=86, metrics={'Training Logloss': 0.47931276318745625, 'Training AUC': 0.7230261256221351}\n"
     ]
    },
    {
     "name": "stdout",
     "output_type": "stream",
     "text": [
      "New metrics logged: with x=87, metrics={'Training Logloss': 0.4799718393067046, 'Training AUC': 0.7230462490063434}\n"
     ]
    },
    {
     "name": "stderr",
     "output_type": "stream",
     "text": [
      "INFO:bdrk:New metrics logged: with x=87, metrics={'Training Logloss': 0.4799718393067046, 'Training AUC': 0.7230462490063434}\n"
     ]
    },
    {
     "name": "stdout",
     "output_type": "stream",
     "text": [
      "New metrics logged: with x=88, metrics={'Training Logloss': 0.48097014130032373, 'Training AUC': 0.7248551864514104}\n"
     ]
    },
    {
     "name": "stderr",
     "output_type": "stream",
     "text": [
      "INFO:bdrk:New metrics logged: with x=88, metrics={'Training Logloss': 0.48097014130032373, 'Training AUC': 0.7248551864514104}\n"
     ]
    },
    {
     "name": "stdout",
     "output_type": "stream",
     "text": [
      "New metrics logged: with x=89, metrics={'Training Logloss': 0.481119085660561, 'Training AUC': 0.7250081241713938}\n"
     ]
    },
    {
     "name": "stderr",
     "output_type": "stream",
     "text": [
      "INFO:bdrk:New metrics logged: with x=89, metrics={'Training Logloss': 0.481119085660561, 'Training AUC': 0.7250081241713938}\n"
     ]
    },
    {
     "name": "stdout",
     "output_type": "stream",
     "text": [
      "New metrics logged: with x=90, metrics={'Training Logloss': 0.481020562450739, 'Training AUC': 0.7251824236376907}\n"
     ]
    },
    {
     "name": "stderr",
     "output_type": "stream",
     "text": [
      "INFO:bdrk:New metrics logged: with x=90, metrics={'Training Logloss': 0.481020562450739, 'Training AUC': 0.7251824236376907}\n"
     ]
    },
    {
     "name": "stdout",
     "output_type": "stream",
     "text": [
      "New metrics logged: with x=91, metrics={'Training Logloss': 0.48027780923395147, 'Training AUC': 0.7247962610545747}\n"
     ]
    },
    {
     "name": "stderr",
     "output_type": "stream",
     "text": [
      "INFO:bdrk:New metrics logged: with x=91, metrics={'Training Logloss': 0.48027780923395147, 'Training AUC': 0.7247962610545747}\n"
     ]
    },
    {
     "name": "stdout",
     "output_type": "stream",
     "text": [
      "New metrics logged: with x=92, metrics={'Training Logloss': 0.4805248393021235, 'Training AUC': 0.724544357563023}\n"
     ]
    },
    {
     "name": "stderr",
     "output_type": "stream",
     "text": [
      "INFO:bdrk:New metrics logged: with x=92, metrics={'Training Logloss': 0.4805248393021235, 'Training AUC': 0.724544357563023}\n"
     ]
    },
    {
     "name": "stdout",
     "output_type": "stream",
     "text": [
      "New metrics logged: with x=93, metrics={'Training Logloss': 0.4811877935600423, 'Training AUC': 0.7245983295114383}\n"
     ]
    },
    {
     "name": "stderr",
     "output_type": "stream",
     "text": [
      "INFO:bdrk:New metrics logged: with x=93, metrics={'Training Logloss': 0.4811877935600423, 'Training AUC': 0.7245983295114383}\n"
     ]
    },
    {
     "name": "stdout",
     "output_type": "stream",
     "text": [
      "New metrics logged: with x=94, metrics={'Training Logloss': 0.4811154529346409, 'Training AUC': 0.7250029643292891}\n"
     ]
    },
    {
     "name": "stderr",
     "output_type": "stream",
     "text": [
      "INFO:bdrk:New metrics logged: with x=94, metrics={'Training Logloss': 0.4811154529346409, 'Training AUC': 0.7250029643292891}\n"
     ]
    },
    {
     "name": "stdout",
     "output_type": "stream",
     "text": [
      "New metrics logged: with x=95, metrics={'Training Logloss': 0.48203432717205325, 'Training AUC': 0.7255046041787084}\n"
     ]
    },
    {
     "name": "stderr",
     "output_type": "stream",
     "text": [
      "INFO:bdrk:New metrics logged: with x=95, metrics={'Training Logloss': 0.48203432717205325, 'Training AUC': 0.7255046041787084}\n"
     ]
    },
    {
     "name": "stdout",
     "output_type": "stream",
     "text": [
      "New metrics logged: with x=96, metrics={'Training Logloss': 0.4781810548901937, 'Training AUC': 0.723999065449398}\n"
     ]
    },
    {
     "name": "stderr",
     "output_type": "stream",
     "text": [
      "INFO:bdrk:New metrics logged: with x=96, metrics={'Training Logloss': 0.4781810548901937, 'Training AUC': 0.723999065449398}\n"
     ]
    },
    {
     "name": "stdout",
     "output_type": "stream",
     "text": [
      "New metrics logged: with x=97, metrics={'Training Logloss': 0.47823888939405246, 'Training AUC': 0.723973782223085}\n"
     ]
    },
    {
     "name": "stderr",
     "output_type": "stream",
     "text": [
      "INFO:bdrk:New metrics logged: with x=97, metrics={'Training Logloss': 0.47823888939405246, 'Training AUC': 0.723973782223085}\n"
     ]
    },
    {
     "name": "stdout",
     "output_type": "stream",
     "text": [
      "New metrics logged: with x=98, metrics={'Training Logloss': 0.47818770584792847, 'Training AUC': 0.7201024558887679}\n"
     ]
    },
    {
     "name": "stderr",
     "output_type": "stream",
     "text": [
      "INFO:bdrk:New metrics logged: with x=98, metrics={'Training Logloss': 0.47818770584792847, 'Training AUC': 0.7201024558887679}\n"
     ]
    },
    {
     "name": "stdout",
     "output_type": "stream",
     "text": [
      "New metrics logged: with x=99, metrics={'Training Logloss': 0.4775292063642178, 'Training AUC': 0.718453783139473}\n"
     ]
    },
    {
     "name": "stderr",
     "output_type": "stream",
     "text": [
      "INFO:bdrk:New metrics logged: with x=99, metrics={'Training Logloss': 0.4775292063642178, 'Training AUC': 0.718453783139473}\n"
     ]
    },
    {
     "name": "stdout",
     "output_type": "stream",
     "text": [
      "Confusion matrix logged\n"
     ]
    },
    {
     "name": "stderr",
     "output_type": "stream",
     "text": [
      "INFO:bdrk:Confusion matrix logged\n"
     ]
    },
    {
     "name": "stdout",
     "output_type": "stream",
     "text": [
      "New metrics logged: with x=0, metrics={'Accuracy': 0.7641333333333333}\n"
     ]
    },
    {
     "name": "stderr",
     "output_type": "stream",
     "text": [
      "INFO:bdrk:New metrics logged: with x=0, metrics={'Accuracy': 0.7641333333333333}\n"
     ]
    },
    {
     "name": "stdout",
     "output_type": "stream",
     "text": [
      "New metrics logged: with x=0, metrics={'Precision': 0.8756457564575646}\n"
     ]
    },
    {
     "name": "stderr",
     "output_type": "stream",
     "text": [
      "INFO:bdrk:New metrics logged: with x=0, metrics={'Precision': 0.8756457564575646}\n"
     ]
    },
    {
     "name": "stdout",
     "output_type": "stream",
     "text": [
      "New metrics logged: with x=0, metrics={'Recall': 0.8125321006676939}\n"
     ]
    },
    {
     "name": "stderr",
     "output_type": "stream",
     "text": [
      "INFO:bdrk:New metrics logged: with x=0, metrics={'Recall': 0.8125321006676939}\n"
     ]
    },
    {
     "name": "stdout",
     "output_type": "stream",
     "text": [
      "New metrics logged: with x=0, metrics={'F1 score': 0.8429091554924074}\n"
     ]
    },
    {
     "name": "stderr",
     "output_type": "stream",
     "text": [
      "INFO:bdrk:New metrics logged: with x=0, metrics={'F1 score': 0.8429091554924074}\n"
     ]
    },
    {
     "name": "stdout",
     "output_type": "stream",
     "text": [
      "New metrics logged: with x=0, metrics={'ROC AUC': 0.7653903900417525}\n"
     ]
    },
    {
     "name": "stderr",
     "output_type": "stream",
     "text": [
      "INFO:bdrk:New metrics logged: with x=0, metrics={'ROC AUC': 0.7653903900417525}\n"
     ]
    },
    {
     "name": "stdout",
     "output_type": "stream",
     "text": [
      "New metrics logged: with x=0, metrics={'Avg precision': 0.9023771463505136}\n"
     ]
    },
    {
     "name": "stderr",
     "output_type": "stream",
     "text": [
      "INFO:bdrk:New metrics logged: with x=0, metrics={'Avg precision': 0.9023771463505136}\n"
     ]
    },
    {
     "name": "stdout",
     "output_type": "stream",
     "text": [
      "Model logged: /artefact/model.pkl\n"
     ]
    },
    {
     "name": "stderr",
     "output_type": "stream",
     "text": [
      "INFO:bdrk:Model logged: /artefact/model.pkl\n"
     ]
    },
    {
     "name": "stdout",
     "output_type": "stream",
     "text": [
      "Model version created: rest-credit-scoring-v13\n"
     ]
    },
    {
     "name": "stderr",
     "output_type": "stream",
     "text": [
      "INFO:bdrk:Model version created: rest-credit-scoring-v13\n"
     ]
    },
    {
     "name": "stdout",
     "output_type": "stream",
     "text": [
      "Run Succeeded: rest-credit-scoring-run20\n"
     ]
    },
    {
     "name": "stderr",
     "output_type": "stream",
     "text": [
      "INFO:bdrk:Run Succeeded: rest-credit-scoring-run20\n"
     ]
    },
    {
     "name": "stdout",
     "output_type": "stream",
     "text": [
      "Run exitted\n"
     ]
    },
    {
     "name": "stderr",
     "output_type": "stream",
     "text": [
      "INFO:bdrk:Run exitted\n"
     ]
    }
   ],
   "source": [
    "# Log the Run\n",
    "compute_log_notebook_metrics(model=model, \n",
    "                             x_train=x_train, \n",
    "                             x_test=x_test, \n",
    "                             y_test=y_test, \n",
    "                             best_th=TH,\n",
    "                             model_name=model_name, \n",
    "                             model_type=model_type,\n",
    "                             access_token=os.environ[\"BEDROCK_API_TOKEN\"],\n",
    "                             project_id=PROJECT_ID,\n",
    "                             pipeline_id=PIPELINE_ID,\n",
    "                             environment_id=ENVIRONMENT_ID,\n",
    "                             env_params=ENV_PARAMS)"
   ]
  },
  {
   "cell_type": "code",
   "execution_count": null,
   "metadata": {},
   "outputs": [],
   "source": []
  }
 ],
 "metadata": {
  "kernelspec": {
   "display_name": "Python 3",
   "language": "python",
   "name": "python3"
  },
  "language_info": {
   "codemirror_mode": {
    "name": "ipython",
    "version": 3
   },
   "file_extension": ".py",
   "mimetype": "text/x-python",
   "name": "python",
   "nbconvert_exporter": "python",
   "pygments_lexer": "ipython3",
   "version": "3.7.9"
  }
 },
 "nbformat": 4,
 "nbformat_minor": 4
}
