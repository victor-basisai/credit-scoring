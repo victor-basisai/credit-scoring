{
 "cells": [
  {
   "cell_type": "code",
   "execution_count": 1,
   "id": "b7bfd95d-9c40-4985-aeba-0a57d939c351",
   "metadata": {},
   "outputs": [],
   "source": [
    "import os\n",
    "import sys\n",
    "import boto3"
   ]
  },
  {
   "cell_type": "code",
   "execution_count": 3,
   "id": "b83a160c-591a-46a4-82a3-72e09b37a6db",
   "metadata": {},
   "outputs": [
    {
     "data": {
      "text/plain": [
       "'3.7.9 | packaged by conda-forge | (default, Dec  9 2020, 21:08:20) \\n[GCC 9.3.0]'"
      ]
     },
     "execution_count": 3,
     "metadata": {},
     "output_type": "execute_result"
    }
   ],
   "source": [
    "sys.version"
   ]
  },
  {
   "cell_type": "code",
   "execution_count": 4,
   "id": "7eaded2a-2801-4101-b3e8-5d18200d3db5",
   "metadata": {},
   "outputs": [],
   "source": [
    "os.environ[\"AWS_STS_REGIONAL_ENDPOINTS\"] = \"regional\""
   ]
  },
  {
   "cell_type": "code",
   "execution_count": 5,
   "id": "d5482569-2e18-4035-a8cf-6a8aa0e76202",
   "metadata": {},
   "outputs": [],
   "source": [
    "# Initialise\n",
    "s3 = boto3.resource('s3')\n",
    "\n",
    "my_bucket = s3.Bucket('bdrk-sandbox-aws-data')\n",
    "# my_bucket = s3.Bucket('sst-s3-ssg-jsr-prdizdb-migrate')"
   ]
  },
  {
   "cell_type": "markdown",
   "id": "aa675c04-05b8-48f5-ad4b-5fdb9d3b12e3",
   "metadata": {},
   "source": [
    "## Example: Upload a Single File"
   ]
  },
  {
   "cell_type": "code",
   "execution_count": 31,
   "id": "254114a9-d424-4639-97d1-b021abdc32a6",
   "metadata": {},
   "outputs": [],
   "source": [
    "# # Upload a single file\n",
    "\n",
    "# file_path = \"pip_boto3/boto3-1.18.53-py3-none-any.whl\"\n",
    "# key_template = 'pypi_libs/boto3-1.18.53/{}'\n",
    "\n",
    "# key = key_template.format(\"boto3-1.18.53-py3-none-any.whl\")\n",
    "# print(file_path, bucket, key)\n",
    "\n",
    "# my_bucket.upload_file(Filename=file_path, Key=key)"
   ]
  },
  {
   "cell_type": "code",
   "execution_count": 8,
   "id": "d9634996-bec6-4fee-9dd0-923383b9d982",
   "metadata": {},
   "outputs": [],
   "source": [
    "# import glob\n",
    "# for file_path in list(glob.iglob(r'../pip_credit_scoring/*')):                                       \n",
    "#     file_name = file_path.split(\"/\")[-1]\n",
    "#     print(file_path)\n",
    "#     print(file_name)"
   ]
  },
  {
   "cell_type": "code",
   "execution_count": 10,
   "id": "738eecc2-6d9e-43cf-82e7-c34cb3929717",
   "metadata": {},
   "outputs": [],
   "source": [
    "# key_template = 'pypi_libs/bedrock-credit-scoring/{}'\n",
    "# local_folder = r'../pip_credit_scoring/*'\n",
    "\n",
    "# for file_path in list(glob.iglob(local_folder)):                                       \n",
    "#     file_name = file_path.split(\"/\")[-1]\n",
    "#     key = key_template.format(file_name)\n",
    "#     print(file_path, key)\n",
    "#     my_bucket.upload_file(Filename=file_path, Key=key)"
   ]
  },
  {
   "cell_type": "markdown",
   "id": "cf7f0396-623e-4dc1-a7f0-4872214740df",
   "metadata": {
    "tags": []
   },
   "source": [
    "## Example: List Bucket"
   ]
  },
  {
   "cell_type": "code",
   "execution_count": 18,
   "id": "6174e6f5-4900-4f2a-bb35-5824ef4f69c0",
   "metadata": {},
   "outputs": [
    {
     "name": "stdout",
     "output_type": "stream",
     "text": [
      "s3.ObjectSummary(bucket_name='sst-s3-ssg-jsr-prdizdb-migrate', key='pypi_libs/boto3-1.18.53/boto3-1.18.53-py3-none-any.whl')\n"
     ]
    }
   ],
   "source": [
    "for my_bucket_object in my_bucket.objects.all():\n",
    "    # Print all\n",
    "    # print(my_bucket_object)\n",
    "    \n",
    "    # Print specific\n",
    "    search_term = \"boto3\"\n",
    "    if search_term in my_bucket_object.key:\n",
    "        print(my_bucket_object)"
   ]
  },
  {
   "cell_type": "code",
   "execution_count": 5,
   "id": "bdc529d6-ec0a-46ab-8566-7f694a372b95",
   "metadata": {},
   "outputs": [
    {
     "name": "stdout",
     "output_type": "stream",
     "text": [
      "Downloading file jsr_phase1_dataflow_script_doc.xlsx ...\n"
     ]
    }
   ],
   "source": [
    "# for s3_file in my_bucket.objects.filter(Prefix=\"tensorflow_keras_data\"):\n",
    "file_object = \"jsr_phase1_dataflow_script_doc.xlsx\"\n",
    "file_name = str(file_object.split('/')[-1])\n",
    "print('Downloading file {} ...'.format(file_object))\n",
    "my_bucket.download_file(file_object, '{}'.format(file_name))"
   ]
  },
  {
   "cell_type": "code",
   "execution_count": null,
   "id": "48628eba-ad4b-41a7-bb7c-23f06979caa9",
   "metadata": {},
   "outputs": [],
   "source": []
  }
 ],
 "metadata": {
  "kernelspec": {
   "display_name": "Python 3",
   "language": "python",
   "name": "python3"
  },
  "language_info": {
   "codemirror_mode": {
    "name": "ipython",
    "version": 3
   },
   "file_extension": ".py",
   "mimetype": "text/x-python",
   "name": "python",
   "nbconvert_exporter": "python",
   "pygments_lexer": "ipython3",
   "version": "3.7.9"
  }
 },
 "nbformat": 4,
 "nbformat_minor": 5
}
