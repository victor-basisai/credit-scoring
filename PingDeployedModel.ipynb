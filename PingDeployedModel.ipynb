{
 "cells": [
  {
   "cell_type": "code",
   "execution_count": 2,
   "metadata": {},
   "outputs": [],
   "source": [
    "# Private HTTP Endpoint\n",
    "# Pattern follows 'http://<endpoint-name>-<commit-id>.deployment.svc.cluster.local:16030'\n",
    "MODEL_ENDPOINT = 'http://long-bread-5258-54d99e03.deployment.svc.cluster.local:16030'\n",
    "MODEL_METRICS_ENDPOINT = MODEL_ENDPOINT + \"/metrics\"\n",
    "MODEL_INFER_ENDPOINT = MODEL_ENDPOINT + \"/infer\""
   ]
  },
  {
   "cell_type": "markdown",
   "metadata": {},
   "source": [
    "# Endpoint Ping using Pycurl"
   ]
  },
  {
   "cell_type": "code",
   "execution_count": 3,
   "metadata": {},
   "outputs": [
    {
     "data": {
      "text/html": [
       "<h1 style='color:blue'>Hello Model Server!</h1>"
      ],
      "text/plain": [
       "<IPython.core.display.HTML object>"
      ]
     },
     "metadata": {},
     "output_type": "display_data"
    }
   ],
   "source": [
    "import pycurl\n",
    "from io import BytesIO \n",
    "from IPython.core.display import display, HTML\n",
    "\n",
    "def ping_homepage(url):\n",
    "\n",
    "    b_obj = BytesIO() \n",
    "    crl = pycurl.Curl() \n",
    "\n",
    "    # Set URL value\n",
    "    crl.setopt(crl.URL, url)\n",
    "    # Write bytes that are utf-8 encoded\n",
    "    crl.setopt(crl.WRITEDATA, b_obj)\n",
    "    # Perform the request\n",
    "    crl.perform() \n",
    "    # End curl session\n",
    "    crl.close()\n",
    "    # Get the content stored in the BytesIO object (in byte characters) \n",
    "    get_body = b_obj.getvalue()\n",
    "    # Decode the bytes stored in get_body to HTML and print the result \n",
    "    # print('Output of GET request:\\n%s' % get_body.decode('utf8')) \n",
    "    display(HTML(get_body.decode('utf8')))\n",
    "    \n",
    "ping_homepage(MODEL_ENDPOINT)"
   ]
  },
  {
   "cell_type": "markdown",
   "metadata": {},
   "source": [
    "# Testing the model inference"
   ]
  },
  {
   "cell_type": "code",
   "execution_count": 74,
   "metadata": {},
   "outputs": [],
   "source": [
    "import requests\n",
    "import pandas as pd"
   ]
  },
  {
   "cell_type": "code",
   "execution_count": 75,
   "metadata": {},
   "outputs": [],
   "source": [
    "df = pd.read_csv(\"creditdata_test_v2.csv\")"
   ]
  },
  {
   "cell_type": "code",
   "execution_count": 76,
   "metadata": {},
   "outputs": [
    {
     "data": {
      "text/html": [
       "<div>\n",
       "<style scoped>\n",
       "    .dataframe tbody tr th:only-of-type {\n",
       "        vertical-align: middle;\n",
       "    }\n",
       "\n",
       "    .dataframe tbody tr th {\n",
       "        vertical-align: top;\n",
       "    }\n",
       "\n",
       "    .dataframe thead th {\n",
       "        text-align: right;\n",
       "    }\n",
       "</style>\n",
       "<table border=\"1\" class=\"dataframe\">\n",
       "  <thead>\n",
       "    <tr style=\"text-align: right;\">\n",
       "      <th></th>\n",
       "      <th>ID</th>\n",
       "      <th>LIMIT_BAL</th>\n",
       "      <th>SEX</th>\n",
       "      <th>EDUCATION</th>\n",
       "      <th>MARRIAGE</th>\n",
       "      <th>AGE</th>\n",
       "      <th>PAY_1</th>\n",
       "      <th>PAY_2</th>\n",
       "      <th>PAY_3</th>\n",
       "      <th>PAY_4</th>\n",
       "      <th>...</th>\n",
       "      <th>BILL_AMT4</th>\n",
       "      <th>BILL_AMT5</th>\n",
       "      <th>BILL_AMT6</th>\n",
       "      <th>PAY_AMT1</th>\n",
       "      <th>PAY_AMT2</th>\n",
       "      <th>PAY_AMT3</th>\n",
       "      <th>PAY_AMT4</th>\n",
       "      <th>PAY_AMT5</th>\n",
       "      <th>PAY_AMT6</th>\n",
       "      <th>TARGET</th>\n",
       "    </tr>\n",
       "  </thead>\n",
       "  <tbody>\n",
       "    <tr>\n",
       "      <th>0</th>\n",
       "      <td>1559</td>\n",
       "      <td>50000.0</td>\n",
       "      <td>2</td>\n",
       "      <td>3</td>\n",
       "      <td>1</td>\n",
       "      <td>31</td>\n",
       "      <td>1</td>\n",
       "      <td>2</td>\n",
       "      <td>2</td>\n",
       "      <td>2</td>\n",
       "      <td>...</td>\n",
       "      <td>40906.0</td>\n",
       "      <td>42100.0</td>\n",
       "      <td>41269.0</td>\n",
       "      <td>2830.0</td>\n",
       "      <td>1000.0</td>\n",
       "      <td>1800.0</td>\n",
       "      <td>2000.0</td>\n",
       "      <td>0.0</td>\n",
       "      <td>1704.0</td>\n",
       "      <td>0</td>\n",
       "    </tr>\n",
       "    <tr>\n",
       "      <th>1</th>\n",
       "      <td>16879</td>\n",
       "      <td>500000.0</td>\n",
       "      <td>1</td>\n",
       "      <td>2</td>\n",
       "      <td>1</td>\n",
       "      <td>38</td>\n",
       "      <td>0</td>\n",
       "      <td>0</td>\n",
       "      <td>0</td>\n",
       "      <td>0</td>\n",
       "      <td>...</td>\n",
       "      <td>49515.0</td>\n",
       "      <td>42568.0</td>\n",
       "      <td>48268.0</td>\n",
       "      <td>30107.0</td>\n",
       "      <td>10026.0</td>\n",
       "      <td>7241.0</td>\n",
       "      <td>50091.0</td>\n",
       "      <td>25000.0</td>\n",
       "      <td>5078.0</td>\n",
       "      <td>1</td>\n",
       "    </tr>\n",
       "    <tr>\n",
       "      <th>2</th>\n",
       "      <td>29295</td>\n",
       "      <td>50000.0</td>\n",
       "      <td>1</td>\n",
       "      <td>2</td>\n",
       "      <td>2</td>\n",
       "      <td>24</td>\n",
       "      <td>0</td>\n",
       "      <td>0</td>\n",
       "      <td>0</td>\n",
       "      <td>0</td>\n",
       "      <td>...</td>\n",
       "      <td>17827.0</td>\n",
       "      <td>7655.0</td>\n",
       "      <td>7881.0</td>\n",
       "      <td>5000.0</td>\n",
       "      <td>1700.0</td>\n",
       "      <td>2000.0</td>\n",
       "      <td>500.0</td>\n",
       "      <td>500.0</td>\n",
       "      <td>500.0</td>\n",
       "      <td>1</td>\n",
       "    </tr>\n",
       "    <tr>\n",
       "      <th>3</th>\n",
       "      <td>18442</td>\n",
       "      <td>200000.0</td>\n",
       "      <td>2</td>\n",
       "      <td>2</td>\n",
       "      <td>1</td>\n",
       "      <td>25</td>\n",
       "      <td>0</td>\n",
       "      <td>0</td>\n",
       "      <td>0</td>\n",
       "      <td>0</td>\n",
       "      <td>...</td>\n",
       "      <td>110828.0</td>\n",
       "      <td>110592.0</td>\n",
       "      <td>103734.0</td>\n",
       "      <td>5000.0</td>\n",
       "      <td>4200.0</td>\n",
       "      <td>3820.0</td>\n",
       "      <td>4000.0</td>\n",
       "      <td>3760.0</td>\n",
       "      <td>4006.0</td>\n",
       "      <td>0</td>\n",
       "    </tr>\n",
       "    <tr>\n",
       "      <th>4</th>\n",
       "      <td>23457</td>\n",
       "      <td>270000.0</td>\n",
       "      <td>2</td>\n",
       "      <td>1</td>\n",
       "      <td>2</td>\n",
       "      <td>37</td>\n",
       "      <td>-2</td>\n",
       "      <td>-2</td>\n",
       "      <td>-2</td>\n",
       "      <td>-2</td>\n",
       "      <td>...</td>\n",
       "      <td>1350.0</td>\n",
       "      <td>558.0</td>\n",
       "      <td>0.0</td>\n",
       "      <td>6380.0</td>\n",
       "      <td>16098.0</td>\n",
       "      <td>1350.0</td>\n",
       "      <td>558.0</td>\n",
       "      <td>0.0</td>\n",
       "      <td>128934.0</td>\n",
       "      <td>1</td>\n",
       "    </tr>\n",
       "  </tbody>\n",
       "</table>\n",
       "<p>5 rows × 25 columns</p>\n",
       "</div>"
      ],
      "text/plain": [
       "      ID  LIMIT_BAL  SEX  EDUCATION  MARRIAGE  AGE  PAY_1  PAY_2  PAY_3  \\\n",
       "0   1559    50000.0    2          3         1   31      1      2      2   \n",
       "1  16879   500000.0    1          2         1   38      0      0      0   \n",
       "2  29295    50000.0    1          2         2   24      0      0      0   \n",
       "3  18442   200000.0    2          2         1   25      0      0      0   \n",
       "4  23457   270000.0    2          1         2   37     -2     -2     -2   \n",
       "\n",
       "   PAY_4  ...  BILL_AMT4  BILL_AMT5  BILL_AMT6  PAY_AMT1  PAY_AMT2  PAY_AMT3  \\\n",
       "0      2  ...    40906.0    42100.0    41269.0    2830.0    1000.0    1800.0   \n",
       "1      0  ...    49515.0    42568.0    48268.0   30107.0   10026.0    7241.0   \n",
       "2      0  ...    17827.0     7655.0     7881.0    5000.0    1700.0    2000.0   \n",
       "3      0  ...   110828.0   110592.0   103734.0    5000.0    4200.0    3820.0   \n",
       "4     -2  ...     1350.0      558.0        0.0    6380.0   16098.0    1350.0   \n",
       "\n",
       "   PAY_AMT4  PAY_AMT5  PAY_AMT6  TARGET  \n",
       "0    2000.0       0.0    1704.0       0  \n",
       "1   50091.0   25000.0    5078.0       1  \n",
       "2     500.0     500.0     500.0       1  \n",
       "3    4000.0    3760.0    4006.0       0  \n",
       "4     558.0       0.0  128934.0       1  \n",
       "\n",
       "[5 rows x 25 columns]"
      ]
     },
     "execution_count": 76,
     "metadata": {},
     "output_type": "execute_result"
    }
   ],
   "source": [
    "df.head()"
   ]
  },
  {
   "cell_type": "code",
   "execution_count": 77,
   "metadata": {},
   "outputs": [],
   "source": [
    "FEATURES = [\n",
    "#     'ID',\n",
    "    'LIMIT_BAL',\n",
    "    'SEX',\n",
    "    'EDUCATION',\n",
    "    'MARRIAGE',\n",
    "    'AGE',\n",
    "    'PAY_1',\n",
    "    'PAY_2',\n",
    "    'PAY_3',\n",
    "    'PAY_4',\n",
    "    'PAY_5',\n",
    "    'PAY_6',\n",
    "    'BILL_AMT1',\n",
    "    'BILL_AMT2',\n",
    "    'BILL_AMT3',\n",
    "    'BILL_AMT4',\n",
    "    'BILL_AMT5',\n",
    "    'BILL_AMT6',\n",
    "    'PAY_AMT1',\n",
    "    'PAY_AMT2',\n",
    "    'PAY_AMT3',\n",
    "    'PAY_AMT4',\n",
    "    'PAY_AMT5',\n",
    "    'PAY_AMT6'\n",
    "]"
   ]
  },
  {
   "cell_type": "code",
   "execution_count": 78,
   "metadata": {},
   "outputs": [],
   "source": [
    "def get_row_of_data(df, row_index=0):\n",
    "    row = df.iloc[row_index]    \n",
    "    data = {}\n",
    "    for feat in FEATURES:\n",
    "        data[feat] = row[feat]\n",
    "        \n",
    "    print(\"TARGET == {}\".format(row[\"TARGET\"]))\n",
    "\n",
    "    return data\n",
    "\n",
    "# data = get_row_of_data(df, 1)\n",
    "# data"
   ]
  },
  {
   "cell_type": "code",
   "execution_count": 101,
   "metadata": {},
   "outputs": [
    {
     "name": "stdout",
     "output_type": "stream",
     "text": [
      "TARGET == 0.0\n",
      "True\n",
      "{'inference': 1.0}\n"
     ]
    }
   ],
   "source": [
    "# Model Deployment: Endpoint URL\n",
    "\n",
    "# Prepare data\n",
    "data = get_row_of_data(df, 0)\n",
    "\n",
    "headers = {\n",
    "    'Content-Type': 'application/json'\n",
    "}\n",
    "\n",
    "response = requests.post(MODEL_INFER_ENDPOINT, headers=headers, data=json.dumps(data))\n",
    "print(response.ok)\n",
    "print(response.json())"
   ]
  },
  {
   "cell_type": "code",
   "execution_count": 88,
   "metadata": {},
   "outputs": [],
   "source": [
    "# response.content"
   ]
  },
  {
   "cell_type": "code",
   "execution_count": 64,
   "metadata": {},
   "outputs": [],
   "source": [
    "# response.text"
   ]
  },
  {
   "cell_type": "code",
   "execution_count": null,
   "metadata": {},
   "outputs": [],
   "source": []
  }
 ],
 "metadata": {
  "kernelspec": {
   "display_name": "Python 3",
   "language": "python",
   "name": "python3"
  },
  "language_info": {
   "codemirror_mode": {
    "name": "ipython",
    "version": 3
   },
   "file_extension": ".py",
   "mimetype": "text/x-python",
   "name": "python",
   "nbconvert_exporter": "python",
   "pygments_lexer": "ipython3",
   "version": "3.7.6"
  }
 },
 "nbformat": 4,
 "nbformat_minor": 4
}
