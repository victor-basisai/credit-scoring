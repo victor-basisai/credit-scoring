{
 "cells": [
  {
   "cell_type": "code",
   "execution_count": 1,
   "metadata": {},
   "outputs": [],
   "source": [
    "import os\n",
    "import requests\n",
    "import json\n",
    "\n",
    "from bdrk.v1 import ApiClient, Configuration, PipelineApi\n",
    "from bdrk.v1.models import (\n",
    "    PipelineResourcesSchema,\n",
    "    TrainingPipelineRunSchema,\n",
    "    GitSourceSchema\n",
    ")"
   ]
  },
  {
   "cell_type": "code",
   "execution_count": 2,
   "metadata": {},
   "outputs": [],
   "source": [
    "# Params for Bedrock Client\n",
    "# Not required if training pipeline is run via UI\n",
    "PROJECT_ID = \"victor-sandbox\"\n",
    "PIPELINE_ID = \"credit-scoring-delta\"\n",
    "ENVIRONMENT_ID = \"sandbox-aws-production\""
   ]
  },
  {
   "cell_type": "markdown",
   "metadata": {},
   "source": [
    "### Helper functions"
   ]
  },
  {
   "cell_type": "code",
   "execution_count": 3,
   "metadata": {},
   "outputs": [],
   "source": [
    "def fetch_pipeline_default_values(bedrock_access_token, project_id, pipeline_id):\n",
    "    '''\n",
    "    Calls the Bedrock REST API to fetch pipeline default values\n",
    "    '''\n",
    "    \n",
    "    url = \"https://api.bdrk.ai/v1/training_pipeline/{pipeline_id}/default_values/\".format(pipeline_id=pipeline_id)\n",
    "    headers = {\n",
    "        'X-Bedrock-Access-Token': bedrock_access_token,\n",
    "        'Content-Type': 'application/json',\n",
    "    }\n",
    "    params = {'project_id': project_id}\n",
    "    r = requests.get(url, headers=headers, params=params)\n",
    "    response_json = json.loads(r.text)\n",
    "\n",
    "    return response_json"
   ]
  },
  {
   "cell_type": "markdown",
   "metadata": {},
   "source": [
    "## Step 1: Configure the Bedrock Client Library"
   ]
  },
  {
   "cell_type": "code",
   "execution_count": 4,
   "metadata": {},
   "outputs": [],
   "source": [
    "configuration = Configuration()\n",
    "configuration.api_key[\"X-Bedrock-Access-Token\"] = os.environ[\"BEDROCK_API_TOKEN\"]\n",
    "configuration.host = \"https://api.bdrk.ai\""
   ]
  },
  {
   "cell_type": "code",
   "execution_count": 5,
   "metadata": {},
   "outputs": [],
   "source": [
    "# Fetch pipeline default values\n",
    "pipeline_default_values = fetch_pipeline_default_values(\n",
    "    bedrock_access_token=os.environ[\"BEDROCK_API_TOKEN\"], \n",
    "    project_id=PROJECT_ID, \n",
    "    pipeline_id=PIPELINE_ID\n",
    ")"
   ]
  },
  {
   "cell_type": "code",
   "execution_count": 6,
   "metadata": {},
   "outputs": [],
   "source": [
    "# Init the client\n",
    "api_client = ApiClient(configuration)\n",
    "pipeline_api = PipelineApi(api_client)\n",
    "\n",
    "# Example: change the commit hash of TrainingPipelineRun\n",
    "# Replace value with the string commit hash\n",
    "source = {\n",
    "    \"commit\": pipeline_default_values[\"id\"],\n",
    "}\n",
    "\n",
    "# Example: change Bedrock HCL environment parameters at run-time\n",
    "script_parameters= {\n",
    "    \"SEED\": \"4\"\n",
    "}\n",
    "\n",
    "# Configure the run\n",
    "run_schema = TrainingPipelineRunSchema(\n",
    "    environment_id=ENVIRONMENT_ID,\n",
    "    source=source,\n",
    "    script_parameters=script_parameters\n",
    ")"
   ]
  },
  {
   "cell_type": "markdown",
   "metadata": {},
   "source": [
    "## Step 2: Run the pipeline"
   ]
  },
  {
   "cell_type": "code",
   "execution_count": 7,
   "metadata": {},
   "outputs": [],
   "source": [
    "# Submit the request to run\n",
    "run = pipeline_api.run_training_pipeline(\n",
    "    project_id=PROJECT_ID,\n",
    "    pipeline_id=PIPELINE_ID, \n",
    "    training_pipeline_run_schema=run_schema\n",
    ")"
   ]
  },
  {
   "cell_type": "code",
   "execution_count": null,
   "metadata": {},
   "outputs": [],
   "source": []
  }
 ],
 "metadata": {
  "kernelspec": {
   "display_name": "Python 3",
   "language": "python",
   "name": "python3"
  },
  "language_info": {
   "codemirror_mode": {
    "name": "ipython",
    "version": 3
   },
   "file_extension": ".py",
   "mimetype": "text/x-python",
   "name": "python",
   "nbconvert_exporter": "python",
   "pygments_lexer": "ipython3",
   "version": "3.7.9"
  }
 },
 "nbformat": 4,
 "nbformat_minor": 4
}
